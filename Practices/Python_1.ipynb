{
  "nbformat": 4,
  "nbformat_minor": 0,
  "metadata": {
    "colab": {
      "provenance": []
    },
    "kernelspec": {
      "name": "python3",
      "display_name": "Python 3"
    },
    "language_info": {
      "name": "python"
    }
  },
  "cells": [
    {
      "cell_type": "code",
      "source": [
        "a=[1,2,3,4]"
      ],
      "metadata": {
        "id": "brUJVOYKZx7C"
      },
      "execution_count": 8,
      "outputs": []
    },
    {
      "cell_type": "code",
      "source": [
        "a=[1,2# item 2\n",
        "   ,3]"
      ],
      "metadata": {
        "id": "IBD0BZQtaBzl"
      },
      "execution_count": 9,
      "outputs": []
    },
    {
      "cell_type": "code",
      "source": [
        "def my_func(a,b,c):\n",
        "  print(a,b,c)"
      ],
      "metadata": {
        "id": "tShDuSjGbEGI"
      },
      "execution_count": 10,
      "outputs": []
    },
    {
      "cell_type": "code",
      "source": [
        "my_func(12,45,97777)"
      ],
      "metadata": {
        "colab": {
          "base_uri": "https://localhost:8080/"
        },
        "id": "DJyQ2JKcbQRR",
        "outputId": "024163f9-b4d0-485e-ce15-6db6aaf9ac9e"
      },
      "execution_count": 11,
      "outputs": [
        {
          "output_type": "stream",
          "name": "stdout",
          "text": [
            "12 45 97777\n"
          ]
        }
      ]
    },
    {
      "cell_type": "code",
      "source": [
        "a = 543\n",
        "if a < 34:\n",
        "    print('a < 34')\n",
        "else:\n",
        "    print('a >= 34')"
      ],
      "metadata": {
        "colab": {
          "base_uri": "https://localhost:8080/"
        },
        "id": "rOt3ejwbd-qE",
        "outputId": "da14b747-d842-4458-c7d7-9447802d8416"
      },
      "execution_count": 12,
      "outputs": [
        {
          "output_type": "stream",
          "name": "stdout",
          "text": [
            "a >= 34\n"
          ]
        }
      ]
    },
    {
      "cell_type": "code",
      "source": [
        "a = 43\n",
        "\n",
        "if a <4 :\n",
        "    print('a < 5')\n",
        "else:\n",
        "    if a < 10:\n",
        "        print('5 <= a < 10')\n",
        "    else:\n",
        "        print('a >= 10')"
      ],
      "metadata": {
        "colab": {
          "base_uri": "https://localhost:8080/"
        },
        "id": "hUV0OfyZd-1v",
        "outputId": "f3a74a40-be97-4b3a-d63b-33df5e742ace"
      },
      "execution_count": 13,
      "outputs": [
        {
          "output_type": "stream",
          "name": "stdout",
          "text": [
            "a >= 10\n"
          ]
        }
      ]
    },
    {
      "cell_type": "code",
      "source": [
        "a = 5\n",
        "res = 'a < 10' if a < 10 else 'a >= 10'\n",
        "print(res)"
      ],
      "metadata": {
        "colab": {
          "base_uri": "https://localhost:8080/"
        },
        "id": "Igyaflt7d-6H",
        "outputId": "5c06334f-6c4c-46c0-f130-fc9739800406"
      },
      "execution_count": 14,
      "outputs": [
        {
          "output_type": "stream",
          "name": "stdout",
          "text": [
            "a < 10\n"
          ]
        }
      ]
    },
    {
      "cell_type": "code",
      "source": [
        "a = 5\n",
        "res = 'a < 10' if a < 10 else 'a >= 10'\n",
        "print(res)"
      ],
      "metadata": {
        "colab": {
          "base_uri": "https://localhost:8080/"
        },
        "id": "XNLjzXHCd--z",
        "outputId": "0693a9d4-23b0-40b4-fe16-16f95ecc212c"
      },
      "execution_count": 15,
      "outputs": [
        {
          "output_type": "stream",
          "name": "stdout",
          "text": [
            "a < 10\n"
          ]
        }
      ]
    },
    {
      "cell_type": "code",
      "source": [
        "def say_hello():\n",
        "    print('Hello!')\n",
        "\n",
        "def say_goodbye():\n",
        "    print('Goodbye!')"
      ],
      "metadata": {
        "id": "jnpZaAXzd_D1"
      },
      "execution_count": 16,
      "outputs": []
    },
    {
      "cell_type": "code",
      "source": [
        "def say_hello():\n",
        "    print('Hello!')\n",
        "\n",
        "def say_goodbye():\n",
        "    print('Goodbye!')"
      ],
      "metadata": {
        "id": "Q634imoKd_Hr"
      },
      "execution_count": 17,
      "outputs": []
    },
    {
      "cell_type": "code",
      "source": [
        "a =6\n",
        "say_hello() if a < 10 else say_goodbye()"
      ],
      "metadata": {
        "colab": {
          "base_uri": "https://localhost:8080/"
        },
        "id": "7U_MxdCXd_L7",
        "outputId": "10ffa257-808d-4e8e-ac89-fb857ef16c3b"
      },
      "execution_count": 18,
      "outputs": [
        {
          "output_type": "stream",
          "name": "stdout",
          "text": [
            "Hello!\n"
          ]
        }
      ]
    },
    {
      "cell_type": "code",
      "source": [
        " from math import sqrt"
      ],
      "metadata": {
        "id": "xGtUhF4pebJe"
      },
      "execution_count": 19,
      "outputs": []
    },
    {
      "cell_type": "code",
      "source": [
        "sqrt(64)"
      ],
      "metadata": {
        "colab": {
          "base_uri": "https://localhost:8080/"
        },
        "id": "1ZNO07nHebTx",
        "outputId": "130f1023-1ffb-426c-a49a-569acb8c0b8f"
      },
      "execution_count": 20,
      "outputs": [
        {
          "output_type": "execute_result",
          "data": {
            "text/plain": [
              "8.0"
            ]
          },
          "metadata": {},
          "execution_count": 20
        }
      ]
    },
    {
      "cell_type": "code",
      "source": [
        "import math\n"
      ],
      "metadata": {
        "id": "KU501vaJebYY"
      },
      "execution_count": 21,
      "outputs": []
    },
    {
      "cell_type": "code",
      "source": [
        "math.exp(6)"
      ],
      "metadata": {
        "colab": {
          "base_uri": "https://localhost:8080/"
        },
        "id": "59gGAijzebc2",
        "outputId": "6469feb5-1520-4179-93ee-cc151f99d975"
      },
      "execution_count": 22,
      "outputs": [
        {
          "output_type": "execute_result",
          "data": {
            "text/plain": [
              "403.4287934927351"
            ]
          },
          "metadata": {},
          "execution_count": 22
        }
      ]
    },
    {
      "cell_type": "code",
      "source": [
        "def func_2(a, b):\n",
        "    return a * b"
      ],
      "metadata": {
        "id": "2fvX1d1pebmE"
      },
      "execution_count": 24,
      "outputs": []
    },
    {
      "cell_type": "code",
      "source": [
        "func_2(545,6465345)"
      ],
      "metadata": {
        "colab": {
          "base_uri": "https://localhost:8080/"
        },
        "id": "uaT7QniEebqU",
        "outputId": "2f1c0a6a-2417-4ad3-d7d1-b83cdeaf4b16"
      },
      "execution_count": 25,
      "outputs": [
        {
          "output_type": "execute_result",
          "data": {
            "text/plain": [
              "3523613025"
            ]
          },
          "metadata": {},
          "execution_count": 25
        }
      ]
    },
    {
      "cell_type": "code",
      "source": [
        "func_2('a', 3)"
      ],
      "metadata": {
        "colab": {
          "base_uri": "https://localhost:8080/",
          "height": 36
        },
        "id": "_u0qQOFQebu1",
        "outputId": "4f04741f-c144-4987-fc95-b7ef14efffb1"
      },
      "execution_count": 26,
      "outputs": [
        {
          "output_type": "execute_result",
          "data": {
            "text/plain": [
              "'aaa'"
            ],
            "application/vnd.google.colaboratory.intrinsic+json": {
              "type": "string"
            }
          },
          "metadata": {},
          "execution_count": 26
        }
      ]
    },
    {
      "cell_type": "code",
      "source": [
        "func_2([1, 2, 3],5)"
      ],
      "metadata": {
        "colab": {
          "base_uri": "https://localhost:8080/"
        },
        "id": "lPYeHyfiebzG",
        "outputId": "74daceb3-133a-45e2-b302-1851ee9677b3"
      },
      "execution_count": 27,
      "outputs": [
        {
          "output_type": "execute_result",
          "data": {
            "text/plain": [
              "[1, 2, 3, 1, 2, 3, 1, 2, 3, 1, 2, 3, 1, 2, 3]"
            ]
          },
          "metadata": {},
          "execution_count": 27
        }
      ]
    },
    {
      "cell_type": "code",
      "source": [
        "def func_4():\n",
        "\n",
        "    a = 2\n"
      ],
      "metadata": {
        "id": "HAFgFmA4iUb9"
      },
      "execution_count": 29,
      "outputs": []
    },
    {
      "cell_type": "code",
      "source": [
        "\n",
        "res = func_4()\n",
        "print(res)"
      ],
      "metadata": {
        "colab": {
          "base_uri": "https://localhost:8080/"
        },
        "id": "iE4FwAeJiUf6",
        "outputId": "afff0281-1f1f-4e2d-b8e2-49ee8a547e5c"
      },
      "execution_count": 30,
      "outputs": [
        {
          "output_type": "stream",
          "name": "stdout",
          "text": [
            "None\n"
          ]
        }
      ]
    },
    {
      "cell_type": "code",
      "source": [],
      "metadata": {
        "id": "naYeUblzd9jj"
      },
      "execution_count": null,
      "outputs": []
    },
    {
      "cell_type": "code",
      "source": [
        "l = [(1,2),(3,4),(5,6)]\n",
        "for i,j in l:\n",
        "  print(i)"
      ],
      "metadata": {
        "colab": {
          "base_uri": "https://localhost:8080/"
        },
        "id": "di656gt0F5EI",
        "outputId": "835a031d-1194-49eb-c7b3-40dc7b7e4784"
      },
      "execution_count": 33,
      "outputs": [
        {
          "output_type": "stream",
          "name": "stdout",
          "text": [
            "1\n",
            "3\n",
            "5\n"
          ]
        }
      ]
    },
    {
      "cell_type": "code",
      "source": [
        "class trial:\n",
        "  def __init__(self,width,length):\n",
        "    self.width = width\n",
        "    self.length = length\n",
        "  def area(self):\n",
        "    return (self.width*self.length)\n",
        "  def __str__(self):\n",
        "    return ' trial: width = {0} length = {1}'.format(self.width, self.length)\n",
        "  def __repr__(self):\n",
        "    return 'trial({0},{1})'.format(self.width,self.length)\n",
        "  def __eq__(self,other):\n",
        "    return self.width == other.width and self.length == other.length"
      ],
      "metadata": {
        "id": "NttQnmL3Ilha"
      },
      "execution_count": 34,
      "outputs": []
    },
    {
      "cell_type": "code",
      "source": [
        "t = trial"
      ],
      "metadata": {
        "id": "D6Jns9f-dGJL"
      },
      "execution_count": 35,
      "outputs": []
    },
    {
      "cell_type": "code",
      "source": [
        "t"
      ],
      "metadata": {
        "colab": {
          "base_uri": "https://localhost:8080/"
        },
        "id": "tNZTs0SwdOo3",
        "outputId": "5bdd98b4-33e0-4cf6-93aa-eb29873a4591"
      },
      "execution_count": 36,
      "outputs": [
        {
          "output_type": "execute_result",
          "data": {
            "text/plain": [
              "__main__.trial"
            ]
          },
          "metadata": {},
          "execution_count": 36
        }
      ]
    },
    {
      "cell_type": "code",
      "source": [
        "t = trial(10,20)"
      ],
      "metadata": {
        "id": "3N3uQ1JtdPpi"
      },
      "execution_count": 37,
      "outputs": []
    },
    {
      "cell_type": "code",
      "source": [
        "#representation\n",
        "t"
      ],
      "metadata": {
        "colab": {
          "base_uri": "https://localhost:8080/"
        },
        "id": "WNgKoXl2tn-w",
        "outputId": "0ff56b8c-60bd-40e1-87c8-ce4976cc3029"
      },
      "execution_count": 38,
      "outputs": [
        {
          "output_type": "execute_result",
          "data": {
            "text/plain": [
              "trial(10,20)"
            ]
          },
          "metadata": {},
          "execution_count": 38
        }
      ]
    },
    {
      "cell_type": "code",
      "source": [
        "t.area()"
      ],
      "metadata": {
        "colab": {
          "base_uri": "https://localhost:8080/"
        },
        "id": "pbAQ4ESvdfG7",
        "outputId": "6c4baecf-d18c-4d43-d748-6727c106d587"
      },
      "execution_count": 39,
      "outputs": [
        {
          "output_type": "execute_result",
          "data": {
            "text/plain": [
              "200"
            ]
          },
          "metadata": {},
          "execution_count": 39
        }
      ]
    },
    {
      "cell_type": "code",
      "source": [
        "str(t)"
      ],
      "metadata": {
        "colab": {
          "base_uri": "https://localhost:8080/",
          "height": 36
        },
        "id": "yNjYVUqAdfsN",
        "outputId": "2c98b883-d811-42d7-b236-5eac35aa2674"
      },
      "execution_count": 40,
      "outputs": [
        {
          "output_type": "execute_result",
          "data": {
            "text/plain": [
              "' trial: width = 10 length = 20'"
            ],
            "application/vnd.google.colaboratory.intrinsic+json": {
              "type": "string"
            }
          },
          "metadata": {},
          "execution_count": 40
        }
      ]
    },
    {
      "cell_type": "code",
      "source": [
        "t1 = trial(10,20)\n",
        "t2 = trial(10,20)"
      ],
      "metadata": {
        "id": "hODRbn7_dj2M"
      },
      "execution_count": 41,
      "outputs": []
    },
    {
      "cell_type": "code",
      "source": [
        "t1 is not t2"
      ],
      "metadata": {
        "colab": {
          "base_uri": "https://localhost:8080/"
        },
        "id": "n2hqdQ04drp8",
        "outputId": "082423e6-96ba-482c-a029-c83bd4dd13f1"
      },
      "execution_count": 42,
      "outputs": [
        {
          "output_type": "execute_result",
          "data": {
            "text/plain": [
              "True"
            ]
          },
          "metadata": {},
          "execution_count": 42
        }
      ]
    },
    {
      "cell_type": "code",
      "source": [
        "t1 == t2"
      ],
      "metadata": {
        "colab": {
          "base_uri": "https://localhost:8080/"
        },
        "id": "k1-4_kDhdtzS",
        "outputId": "d990f72a-b4f9-4d92-bfd1-5f04a66a0350"
      },
      "execution_count": 43,
      "outputs": [
        {
          "output_type": "execute_result",
          "data": {
            "text/plain": [
              "True"
            ]
          },
          "metadata": {},
          "execution_count": 43
        }
      ]
    },
    {
      "cell_type": "code",
      "source": [
        "l = [1,2,3]"
      ],
      "metadata": {
        "id": "h9D42xJ3jid-"
      },
      "execution_count": 44,
      "outputs": []
    },
    {
      "cell_type": "code",
      "source": [
        "import sys\n",
        "sys.getrefcount(l)"
      ],
      "metadata": {
        "colab": {
          "base_uri": "https://localhost:8080/"
        },
        "id": "nJrMWcRFtbbe",
        "outputId": "06bd1c5a-761a-4082-b0eb-e20e66023292"
      },
      "execution_count": 45,
      "outputs": [
        {
          "output_type": "execute_result",
          "data": {
            "text/plain": [
              "3"
            ]
          },
          "metadata": {},
          "execution_count": 45
        }
      ]
    },
    {
      "cell_type": "code",
      "source": [
        "l = None"
      ],
      "metadata": {
        "id": "2e78RmVxtekt"
      },
      "execution_count": 46,
      "outputs": []
    },
    {
      "cell_type": "code",
      "source": [
        "\n",
        "import sys\n",
        "sys.getrefcount(l)"
      ],
      "metadata": {
        "colab": {
          "base_uri": "https://localhost:8080/"
        },
        "id": "CaRdmNeltmwh",
        "outputId": "cfc94932-9edc-474d-a860-d017f7cb33dd"
      },
      "execution_count": 47,
      "outputs": [
        {
          "output_type": "execute_result",
          "data": {
            "text/plain": [
              "45947"
            ]
          },
          "metadata": {},
          "execution_count": 47
        }
      ]
    },
    {
      "cell_type": "code",
      "source": [
        "zxcv = 10"
      ],
      "metadata": {
        "id": "uU2DCT6TtpVN"
      },
      "execution_count": 48,
      "outputs": []
    },
    {
      "cell_type": "code",
      "source": [
        "sys.getrefcount(zxcv)"
      ],
      "metadata": {
        "colab": {
          "base_uri": "https://localhost:8080/"
        },
        "id": "_H1l7L0TtukA",
        "outputId": "6d583f7a-decc-4c3d-e790-7ee190d4fb58"
      },
      "execution_count": 49,
      "outputs": [
        {
          "output_type": "execute_result",
          "data": {
            "text/plain": [
              "467"
            ]
          },
          "metadata": {},
          "execution_count": 49
        }
      ]
    },
    {
      "cell_type": "code",
      "source": [
        "id(zxcv)"
      ],
      "metadata": {
        "id": "nfk6tKrRtxKq",
        "outputId": "09a12e3a-8967-4421-f4b1-5969832fd88a",
        "colab": {
          "base_uri": "https://localhost:8080/"
        }
      },
      "execution_count": 50,
      "outputs": [
        {
          "output_type": "execute_result",
          "data": {
            "text/plain": [
              "140478415045136"
            ]
          },
          "metadata": {},
          "execution_count": 50
        }
      ]
    },
    {
      "cell_type": "code",
      "source": [
        "import ctypes\n",
        "import gc"
      ],
      "metadata": {
        "id": "W_nAbn4Tt0Tf"
      },
      "execution_count": 51,
      "outputs": []
    },
    {
      "cell_type": "code",
      "source": [
        "#class A and B's objects are pointing to each other, this is circular referencing.\n",
        "class A:\n",
        "  def __init__(self):\n",
        "    self.b = B(self)\n",
        "    print('A: self:{0}, b:{1}'.format(hex(id(self)),hex(id(self.b))))"
      ],
      "metadata": {
        "id": "H7TP7hIB6x1r"
      },
      "execution_count": 52,
      "outputs": []
    },
    {
      "cell_type": "code",
      "source": [
        "class B:\n",
        "  def __init__(self,a):\n",
        "    self.a = a\n",
        "    print('B: self:{0}, a:{1}'.format(hex(id(self)),hex(id(self.a))))"
      ],
      "metadata": {
        "id": "YzA_NRA97Q0B"
      },
      "execution_count": 53,
      "outputs": []
    },
    {
      "cell_type": "code",
      "source": [
        "gc.disable()"
      ],
      "metadata": {
        "id": "DWYHe_a57dkp"
      },
      "execution_count": 54,
      "outputs": []
    },
    {
      "cell_type": "code",
      "source": [
        "myvar = A()"
      ],
      "metadata": {
        "colab": {
          "base_uri": "https://localhost:8080/"
        },
        "id": "r7ZOr2jM7iyJ",
        "outputId": "f1d77211-8c24-4bf9-d4a9-377c2e7fb534"
      },
      "execution_count": 55,
      "outputs": [
        {
          "output_type": "stream",
          "name": "stdout",
          "text": [
            "B: self:0x7fc39cfa1d20, a:0x7fc39cfa1fc0\n",
            "A: self:0x7fc39cfa1fc0, b:0x7fc39cfa1d20\n"
          ]
        }
      ]
    },
    {
      "cell_type": "code",
      "source": [
        "id(myvar)"
      ],
      "metadata": {
        "colab": {
          "base_uri": "https://localhost:8080/"
        },
        "id": "zD-Knkx37mcc",
        "outputId": "0c7b7660-a90d-417a-f5e3-7b7813ec8305"
      },
      "execution_count": 56,
      "outputs": [
        {
          "output_type": "execute_result",
          "data": {
            "text/plain": [
              "140478128988096"
            ]
          },
          "metadata": {},
          "execution_count": 56
        }
      ]
    },
    {
      "cell_type": "code",
      "source": [
        "hex(id(myvar))"
      ],
      "metadata": {
        "colab": {
          "base_uri": "https://localhost:8080/",
          "height": 36
        },
        "id": "e9fLHm-X8JG8",
        "outputId": "6f713470-bb62-42ca-f39e-71edecff8304"
      },
      "execution_count": 57,
      "outputs": [
        {
          "output_type": "execute_result",
          "data": {
            "text/plain": [
              "'0x7fc39cfa1fc0'"
            ],
            "application/vnd.google.colaboratory.intrinsic+json": {
              "type": "string"
            }
          },
          "metadata": {},
          "execution_count": 57
        }
      ]
    },
    {
      "cell_type": "code",
      "source": [
        "def ref_count(address):\n",
        "  return ctypes.c_long.from_address(address).value"
      ],
      "metadata": {
        "id": "p25-00XK8Nxp"
      },
      "execution_count": 58,
      "outputs": []
    },
    {
      "cell_type": "code",
      "source": [
        "a_id = id(myvar)\n",
        "b_id = id(myvar.b)"
      ],
      "metadata": {
        "id": "eDKCxK5YAaLH"
      },
      "execution_count": 59,
      "outputs": []
    },
    {
      "cell_type": "code",
      "source": [
        "ref_count(a_id)"
      ],
      "metadata": {
        "colab": {
          "base_uri": "https://localhost:8080/"
        },
        "id": "w9T8oFwjAgR7",
        "outputId": "a74ff1ff-ba2d-44f4-acc9-7d5e33be695f"
      },
      "execution_count": 60,
      "outputs": [
        {
          "output_type": "execute_result",
          "data": {
            "text/plain": [
              "3"
            ]
          },
          "metadata": {},
          "execution_count": 60
        }
      ]
    },
    {
      "cell_type": "code",
      "source": [
        "def obje(object_id):\n",
        "  for obj in gc.get_objects():\n",
        "    if(id(obj) == object_id):\n",
        "      return 'yes'\n",
        "  return 'no'"
      ],
      "metadata": {
        "id": "KIhwD14aAhPt"
      },
      "execution_count": 61,
      "outputs": []
    },
    {
      "cell_type": "code",
      "source": [
        "obje(a_id)"
      ],
      "metadata": {
        "colab": {
          "base_uri": "https://localhost:8080/",
          "height": 36
        },
        "id": "KlR7Z3C2BN7m",
        "outputId": "ff22b7ab-4773-421e-bb76-5f14126e85e2"
      },
      "execution_count": 62,
      "outputs": [
        {
          "output_type": "execute_result",
          "data": {
            "text/plain": [
              "'yes'"
            ],
            "application/vnd.google.colaboratory.intrinsic+json": {
              "type": "string"
            }
          },
          "metadata": {},
          "execution_count": 62
        }
      ]
    },
    {
      "cell_type": "code",
      "source": [
        "\n",
        "myvar = None"
      ],
      "metadata": {
        "id": "EOP8zKZbBQMu"
      },
      "execution_count": 63,
      "outputs": []
    },
    {
      "cell_type": "code",
      "source": [
        "ref_count(a_id)"
      ],
      "metadata": {
        "colab": {
          "base_uri": "https://localhost:8080/"
        },
        "id": "4IlEIEaCBf2F",
        "outputId": "326bcfee-a2d6-4e39-f1a8-4e555eaed1ca"
      },
      "execution_count": 64,
      "outputs": [
        {
          "output_type": "execute_result",
          "data": {
            "text/plain": [
              "1"
            ]
          },
          "metadata": {},
          "execution_count": 64
        }
      ]
    },
    {
      "cell_type": "code",
      "source": [
        "ref_count(b_id)"
      ],
      "metadata": {
        "colab": {
          "base_uri": "https://localhost:8080/"
        },
        "id": "hSEPYmjUBhBM",
        "outputId": "bcc977c1-2156-4c28-9fdb-a46e7f3407fb"
      },
      "execution_count": 65,
      "outputs": [
        {
          "output_type": "execute_result",
          "data": {
            "text/plain": [
              "1"
            ]
          },
          "metadata": {},
          "execution_count": 65
        }
      ]
    },
    {
      "cell_type": "code",
      "source": [
        "gc.collect()"
      ],
      "metadata": {
        "colab": {
          "base_uri": "https://localhost:8080/"
        },
        "id": "OF-2rtJoBjVZ",
        "outputId": "9b4d2c5f-c7f5-4f97-b739-3524bed31043"
      },
      "execution_count": 66,
      "outputs": [
        {
          "output_type": "execute_result",
          "data": {
            "text/plain": [
              "4"
            ]
          },
          "metadata": {},
          "execution_count": 66
        }
      ]
    },
    {
      "cell_type": "code",
      "source": [
        "obje(a_id)"
      ],
      "metadata": {
        "colab": {
          "base_uri": "https://localhost:8080/",
          "height": 36
        },
        "id": "-VhMptVsBw_L",
        "outputId": "3409d571-4b4e-47ee-ad9a-daa5c73f9289"
      },
      "execution_count": 67,
      "outputs": [
        {
          "output_type": "execute_result",
          "data": {
            "text/plain": [
              "'no'"
            ],
            "application/vnd.google.colaboratory.intrinsic+json": {
              "type": "string"
            }
          },
          "metadata": {},
          "execution_count": 67
        }
      ]
    },
    {
      "cell_type": "code",
      "source": [
        "ref_count(a_id)"
      ],
      "metadata": {
        "colab": {
          "base_uri": "https://localhost:8080/"
        },
        "id": "Irm9AwS-BzUK",
        "outputId": "adf9f997-4d92-4597-f96a-9d53b14d2d86"
      },
      "execution_count": 68,
      "outputs": [
        {
          "output_type": "execute_result",
          "data": {
            "text/plain": [
              "140478156870624"
            ]
          },
          "metadata": {},
          "execution_count": 68
        }
      ]
    },
    {
      "cell_type": "code",
      "source": [
        "ref_count(b_id)"
      ],
      "metadata": {
        "colab": {
          "base_uri": "https://localhost:8080/"
        },
        "id": "hMcuUhyMB6BJ",
        "outputId": "5f200069-c74d-4da6-b9f4-ca23211b0280"
      },
      "execution_count": 69,
      "outputs": [
        {
          "output_type": "execute_result",
          "data": {
            "text/plain": [
              "9744736"
            ]
          },
          "metadata": {},
          "execution_count": 69
        }
      ]
    },
    {
      "cell_type": "code",
      "source": [
        "gc.enable()"
      ],
      "metadata": {
        "id": "6NJICo4lupqu"
      },
      "execution_count": 70,
      "outputs": []
    },
    {
      "cell_type": "code",
      "source": [
        "#since list is mutable, the intial(before change) and final(after change) value of memory address will change\n",
        "def process(s):\n",
        "  print('initial s {0}'.format(id(s)))\n",
        "  s = s + 'world'\n",
        "  print('final s {0}'.format(id(s)))"
      ],
      "metadata": {
        "id": "zh6F3bKwB_Zo"
      },
      "execution_count": 71,
      "outputs": []
    },
    {
      "cell_type": "code",
      "source": [
        "myvar = 'hello'\n",
        "print(\"original myvar's id =  {0}\".format(id(myvar)))"
      ],
      "metadata": {
        "colab": {
          "base_uri": "https://localhost:8080/"
        },
        "id": "9mvj-s_3KUdE",
        "outputId": "eec8b50d-8056-45f5-9a8f-982149a9f79a"
      },
      "execution_count": 72,
      "outputs": [
        {
          "output_type": "stream",
          "name": "stdout",
          "text": [
            "original myvar's id =  140478132616112\n"
          ]
        }
      ]
    },
    {
      "cell_type": "code",
      "source": [
        "process(myvar)"
      ],
      "metadata": {
        "colab": {
          "base_uri": "https://localhost:8080/"
        },
        "id": "k727rmsjKtsT",
        "outputId": "434dae4c-0c02-42f8-89f5-b391d248a74e"
      },
      "execution_count": 73,
      "outputs": [
        {
          "output_type": "stream",
          "name": "stdout",
          "text": [
            "initial s 140478132616112\n",
            "final s 140478129067184\n"
          ]
        }
      ]
    },
    {
      "cell_type": "code",
      "source": [
        "# tuple is immutable,\n",
        "def process(t):\n",
        "  t[0].append(100)\n",
        "  print(t)\n",
        "  print('final {0}'.format(id(t)))\n",
        "\n",
        "my_tup = ([1,2],'a')\n",
        "print('inital {0}'.format(id(my_tup)))\n",
        "process(my_tup)\n"
      ],
      "metadata": {
        "id": "CUa7L0usK0kS"
      },
      "execution_count": null,
      "outputs": []
    },
    {
      "cell_type": "code",
      "source": [
        "def square(a):\n",
        "  return a**2"
      ],
      "metadata": {
        "id": "jSgrBcJ4yd_N"
      },
      "execution_count": 75,
      "outputs": []
    },
    {
      "cell_type": "code",
      "source": [
        "def cube(b):\n",
        "  return b**3"
      ],
      "metadata": {
        "id": "8PtxFPpk4UT9"
      },
      "execution_count": 74,
      "outputs": []
    },
    {
      "cell_type": "code",
      "source": [
        "def select_fun(i):\n",
        "  if(i == 1):\n",
        "    return square\n",
        "  else:\n",
        "    return cube"
      ],
      "metadata": {
        "id": "kzKYeyzJ4Ybk"
      },
      "execution_count": 76,
      "outputs": []
    },
    {
      "cell_type": "code",
      "source": [
        "c = select_fun(1)"
      ],
      "metadata": {
        "id": "qXR9wMeS4fh4"
      },
      "execution_count": 77,
      "outputs": []
    },
    {
      "cell_type": "code",
      "source": [
        "c is square"
      ],
      "metadata": {
        "colab": {
          "base_uri": "https://localhost:8080/"
        },
        "id": "uvnC_bXn4kpx",
        "outputId": "b03b1739-fe84-4ae2-e0c0-dafec51488d4"
      },
      "execution_count": 78,
      "outputs": [
        {
          "output_type": "execute_result",
          "data": {
            "text/plain": [
              "True"
            ]
          },
          "metadata": {},
          "execution_count": 78
        }
      ]
    },
    {
      "cell_type": "code",
      "source": [
        "c(2)"
      ],
      "metadata": {
        "colab": {
          "base_uri": "https://localhost:8080/"
        },
        "id": "e_vuJrp84qbH",
        "outputId": "2f4b60f0-5469-4c3b-f421-88d7fec39171"
      },
      "execution_count": 79,
      "outputs": [
        {
          "output_type": "execute_result",
          "data": {
            "text/plain": [
              "4"
            ]
          },
          "metadata": {},
          "execution_count": 79
        }
      ]
    },
    {
      "cell_type": "code",
      "source": [
        "select_fun(2)(3)"
      ],
      "metadata": {
        "colab": {
          "base_uri": "https://localhost:8080/"
        },
        "id": "teP5BgkN4uVy",
        "outputId": "9f97ea3a-b455-442c-e53a-f3f9cebcd9d3"
      },
      "execution_count": 80,
      "outputs": [
        {
          "output_type": "execute_result",
          "data": {
            "text/plain": [
              "27"
            ]
          },
          "metadata": {},
          "execution_count": 80
        }
      ]
    },
    {
      "cell_type": "code",
      "source": [
        "a = 'hello'\n",
        "b = 'hello'"
      ],
      "metadata": {
        "id": "AaYyGE-w4zCs"
      },
      "execution_count": 81,
      "outputs": []
    },
    {
      "cell_type": "code",
      "source": [
        "a is b"
      ],
      "metadata": {
        "colab": {
          "base_uri": "https://localhost:8080/"
        },
        "id": "SdkCCDIb7K2X",
        "outputId": "75de8f52-e8c5-4cb8-8310-9664b75ebe06"
      },
      "execution_count": 82,
      "outputs": [
        {
          "output_type": "execute_result",
          "data": {
            "text/plain": [
              "True"
            ]
          },
          "metadata": {},
          "execution_count": 82
        }
      ]
    },
    {
      "cell_type": "code",
      "source": [
        "a==b"
      ],
      "metadata": {
        "colab": {
          "base_uri": "https://localhost:8080/"
        },
        "id": "HJHGgqwO7OoB",
        "outputId": "d34ccaf0-e501-4914-fd37-f5d3698917f5"
      },
      "execution_count": 83,
      "outputs": [
        {
          "output_type": "execute_result",
          "data": {
            "text/plain": [
              "True"
            ]
          },
          "metadata": {},
          "execution_count": 83
        }
      ]
    },
    {
      "cell_type": "code",
      "source": [
        "a = 'hello world'\n",
        "b = 'hello world'"
      ],
      "metadata": {
        "id": "i-1XO0s37PDx"
      },
      "execution_count": 84,
      "outputs": []
    },
    {
      "cell_type": "code",
      "source": [
        "a is b"
      ],
      "metadata": {
        "colab": {
          "base_uri": "https://localhost:8080/"
        },
        "id": "rdcxHck-7RdB",
        "outputId": "da57e1a2-7291-4eac-c1d0-13cfdc5ff2db"
      },
      "execution_count": 85,
      "outputs": [
        {
          "output_type": "execute_result",
          "data": {
            "text/plain": [
              "False"
            ]
          },
          "metadata": {},
          "execution_count": 85
        }
      ]
    },
    {
      "cell_type": "code",
      "source": [
        "a== b"
      ],
      "metadata": {
        "colab": {
          "base_uri": "https://localhost:8080/"
        },
        "id": "gB6abq-K7Vh5",
        "outputId": "1e143916-4f3b-479b-d2e4-f8a2e4b6b012"
      },
      "execution_count": 86,
      "outputs": [
        {
          "output_type": "execute_result",
          "data": {
            "text/plain": [
              "True"
            ]
          },
          "metadata": {},
          "execution_count": 86
        }
      ]
    },
    {
      "cell_type": "code",
      "source": [
        "a=13\n",
        "b=4\n",
        "print('{0}/{1} = {2}'.format(a,b,a/b))\n",
        "print('{0}//{1} = {2}'.format(a,b,a//b))\n",
        "print('{0}%{1} = {2}'.format(a,b,a%b))\n",
        "print(a==b*(a//b)+a%b)"
      ],
      "metadata": {
        "id": "F5pN44PSFty8"
      },
      "execution_count": null,
      "outputs": []
    },
    {
      "cell_type": "code",
      "source": [
        "a=-13\n",
        "b=4\n",
        "print('{0}/{1} = {2}'.format(a,b,a/b))\n",
        "print('{0}//{1} = {2}'.format(a,b,a//b))\n",
        "print('{0}%{1} = {2}'.format(a,b,a%b))\n",
        "print(a==b*(a//b)+a%b)"
      ],
      "metadata": {
        "colab": {
          "base_uri": "https://localhost:8080/"
        },
        "id": "BGSxCbViJjDi",
        "outputId": "81f1ac31-b231-4ecb-a11c-b2ac424f4e2a"
      },
      "execution_count": 88,
      "outputs": [
        {
          "output_type": "stream",
          "name": "stdout",
          "text": [
            "-13/4 = -3.25\n",
            "-13//4 = -4\n",
            "-13%4 = 3\n",
            "True\n"
          ]
        }
      ]
    },
    {
      "cell_type": "code",
      "source": [
        "int('123')"
      ],
      "metadata": {
        "colab": {
          "base_uri": "https://localhost:8080/"
        },
        "id": "n71qAyCjJuUa",
        "outputId": "f99f0595-48df-4387-a9dc-00d6b6fd7d8b"
      },
      "execution_count": 89,
      "outputs": [
        {
          "output_type": "execute_result",
          "data": {
            "text/plain": [
              "123"
            ]
          },
          "metadata": {},
          "execution_count": 89
        }
      ]
    },
    {
      "cell_type": "code",
      "source": [
        "int('1010',2)"
      ],
      "metadata": {
        "colab": {
          "base_uri": "https://localhost:8080/"
        },
        "id": "r8_656w4K4Nf",
        "outputId": "44941a50-181a-4fb8-c5d5-f6b4dab71901"
      },
      "execution_count": 90,
      "outputs": [
        {
          "output_type": "execute_result",
          "data": {
            "text/plain": [
              "10"
            ]
          },
          "metadata": {},
          "execution_count": 90
        }
      ]
    },
    {
      "cell_type": "code",
      "source": [
        "import string\n",
        "string.ascii_letters"
      ],
      "metadata": {
        "colab": {
          "base_uri": "https://localhost:8080/",
          "height": 36
        },
        "id": "cryiKMW6K-Jv",
        "outputId": "447f0fe9-b9b4-4e7d-da9e-ba7f25375b5c"
      },
      "execution_count": 91,
      "outputs": [
        {
          "output_type": "execute_result",
          "data": {
            "text/plain": [
              "'abcdefghijklmnopqrstuvwxyzABCDEFGHIJKLMNOPQRSTUVWXYZ'"
            ],
            "application/vnd.google.colaboratory.intrinsic+json": {
              "type": "string"
            }
          },
          "metadata": {},
          "execution_count": 91
        }
      ]
    },
    {
      "cell_type": "code",
      "source": [
        "def rebase(n,b):\n",
        "  map = '0123456789ABCDEFGHIJKLMNOPQRSTUVWXYZ'\n",
        "  sign = -1 if n<0 else 1\n",
        "  n *= sign\n",
        "\n",
        "  digit = base_change(n,b)\n",
        "  en = encode(digit,map)\n",
        "  if sign == -1:\n",
        "    en =  '-' + en\n",
        "  return en\n"
      ],
      "metadata": {
        "id": "__cemFOiVUuD"
      },
      "execution_count": 92,
      "outputs": []
    },
    {
      "cell_type": "code",
      "source": [
        "import fractions\n",
        "fractions.Fraction(0.125)"
      ],
      "metadata": {
        "colab": {
          "base_uri": "https://localhost:8080/"
        },
        "id": "icxxFiL0WMIM",
        "outputId": "f07399ab-c2f2-4cb3-8d49-b49ba1c5f9b5"
      },
      "execution_count": 94,
      "outputs": [
        {
          "output_type": "execute_result",
          "data": {
            "text/plain": [
              "Fraction(1, 8)"
            ]
          },
          "metadata": {},
          "execution_count": 94
        }
      ]
    },
    {
      "cell_type": "code",
      "source": [
        "import math\n",
        "fractions.Fraction(math.pi)"
      ],
      "metadata": {
        "colab": {
          "base_uri": "https://localhost:8080/"
        },
        "id": "stRHtqlppyS3",
        "outputId": "a9892dda-dbcc-47b4-8202-42b9d30842b7"
      },
      "execution_count": 95,
      "outputs": [
        {
          "output_type": "execute_result",
          "data": {
            "text/plain": [
              "Fraction(884279719003555, 281474976710656)"
            ]
          },
          "metadata": {},
          "execution_count": 95
        }
      ]
    },
    {
      "cell_type": "code",
      "source": [
        "from math import isclose\n",
        "x = 0.000001\n",
        "y = 0.000002\n",
        "\n",
        "a = 1000.01\n",
        "b = 1000.02\n",
        "\n",
        "print(isclose(x,y,abs_tol=0.0001,rel_tol=0.01))\n",
        "print(isclose(a,b,abs_tol=0.0001,rel_tol=0.01))"
      ],
      "metadata": {
        "colab": {
          "base_uri": "https://localhost:8080/"
        },
        "id": "DTKn2PtJsMhN",
        "outputId": "0ef419c6-2f2b-408a-c732-ea634cc6c783"
      },
      "execution_count": 96,
      "outputs": [
        {
          "output_type": "stream",
          "name": "stdout",
          "text": [
            "True\n",
            "True\n"
          ]
        }
      ]
    },
    {
      "cell_type": "code",
      "source": [
        "round(1.35,1)"
      ],
      "metadata": {
        "id": "deleTxPS-Y00",
        "colab": {
          "base_uri": "https://localhost:8080/"
        },
        "outputId": "b96a8209-4741-41ed-d442-b39c74f51d0d"
      },
      "execution_count": 97,
      "outputs": [
        {
          "output_type": "execute_result",
          "data": {
            "text/plain": [
              "1.4"
            ]
          },
          "metadata": {},
          "execution_count": 97
        }
      ]
    },
    {
      "cell_type": "code",
      "source": [
        "round(25,-1)"
      ],
      "metadata": {
        "colab": {
          "base_uri": "https://localhost:8080/"
        },
        "id": "iQUeFkWC_0Iw",
        "outputId": "e184520b-d5f4-4e26-aaf1-73d7d2d70635"
      },
      "execution_count": 98,
      "outputs": [
        {
          "output_type": "execute_result",
          "data": {
            "text/plain": [
              "20"
            ]
          },
          "metadata": {},
          "execution_count": 98
        }
      ]
    },
    {
      "cell_type": "code",
      "source": [
        "round(-10.9,-1)"
      ],
      "metadata": {
        "colab": {
          "base_uri": "https://localhost:8080/"
        },
        "id": "i7gjahAUCkaU",
        "outputId": "5c34059b-9739-4cab-892f-ec9b9d219d3c"
      },
      "execution_count": 99,
      "outputs": [
        {
          "output_type": "execute_result",
          "data": {
            "text/plain": [
              "-10.0"
            ]
          },
          "metadata": {},
          "execution_count": 99
        }
      ]
    },
    {
      "cell_type": "code",
      "source": [
        "import decimal\n",
        "decimal.getcontext()"
      ],
      "metadata": {
        "colab": {
          "base_uri": "https://localhost:8080/"
        },
        "id": "ozcBun93DUyf",
        "outputId": "4d219361-59d1-4107-bde1-476863b096bf"
      },
      "execution_count": 100,
      "outputs": [
        {
          "output_type": "execute_result",
          "data": {
            "text/plain": [
              "Context(prec=28, rounding=ROUND_HALF_EVEN, Emin=-999999, Emax=999999, capitals=1, clamp=0, flags=[], traps=[InvalidOperation, DivisionByZero, Overflow])"
            ]
          },
          "metadata": {},
          "execution_count": 100
        }
      ]
    },
    {
      "cell_type": "code",
      "source": [
        "decimal.Decimal((1,(3,1,4,1,5),-4))\n",
        "# -31415 * 10^(-4)"
      ],
      "metadata": {
        "colab": {
          "base_uri": "https://localhost:8080/"
        },
        "id": "VAyzyQfBPiPI",
        "outputId": "b76c4282-c2c0-435b-b02f-b9d314b0f3a4"
      },
      "execution_count": 101,
      "outputs": [
        {
          "output_type": "execute_result",
          "data": {
            "text/plain": [
              "Decimal('-3.1415')"
            ]
          },
          "metadata": {},
          "execution_count": 101
        }
      ]
    },
    {
      "cell_type": "code",
      "source": [
        "decimal.Decimal(0.1)"
      ],
      "metadata": {
        "colab": {
          "base_uri": "https://localhost:8080/"
        },
        "id": "Njz2X5x0SnFi",
        "outputId": "a818d9d4-1c47-4d72-d693-0848e7a429e3"
      },
      "execution_count": 102,
      "outputs": [
        {
          "output_type": "execute_result",
          "data": {
            "text/plain": [
              "Decimal('0.1000000000000000055511151231257827021181583404541015625')"
            ]
          },
          "metadata": {},
          "execution_count": 102
        }
      ]
    },
    {
      "cell_type": "code",
      "source": [
        "from decimal import Decimal as d\n",
        "x=0.01\n",
        "xdec = d('0.01')\n",
        "print(format(x,'.27f'))\n",
        "print(format(xdec,'.27f'))"
      ],
      "metadata": {
        "colab": {
          "base_uri": "https://localhost:8080/"
        },
        "id": "b8M-mystTmfi",
        "outputId": "621e841e-b8cb-44cb-ce08-58b3f825838a"
      },
      "execution_count": 103,
      "outputs": [
        {
          "output_type": "stream",
          "name": "stdout",
          "text": [
            "0.010000000000000000208166817\n",
            "0.010000000000000000000000000\n"
          ]
        }
      ]
    },
    {
      "cell_type": "code",
      "source": [
        "import math\n",
        "x_fl = math.sqrt(x)\n",
        "x_mix = math.sqrt(xdec)\n",
        "x_dec = xdec.sqrt()\n",
        "\n",
        "print(format(x_fl, '1.27f'))\n",
        "print(format(x_mix, '1.27f'))\n",
        "print(x_dec)"
      ],
      "metadata": {
        "colab": {
          "base_uri": "https://localhost:8080/"
        },
        "id": "MS1BxILXdlg8",
        "outputId": "2344ff59-ef23-49c2-9885-aeb0e93cd678"
      },
      "execution_count": 104,
      "outputs": [
        {
          "output_type": "stream",
          "name": "stdout",
          "text": [
            "0.100000000000000005551115123\n",
            "0.100000000000000005551115123\n",
            "0.1\n"
          ]
        }
      ]
    },
    {
      "cell_type": "code",
      "source": [
        "import cmath\n",
        "import math\n",
        "rhs = cmath.exp(complex(0,math.pi)) + 1\n",
        "print((rhs))"
      ],
      "metadata": {
        "colab": {
          "base_uri": "https://localhost:8080/"
        },
        "id": "lRd74SHGd_ws",
        "outputId": "9e18bec7-9e61-4d97-a2b4-d59449305ff6"
      },
      "execution_count": 105,
      "outputs": [
        {
          "output_type": "stream",
          "name": "stdout",
          "text": [
            "1.2246467991473532e-16j\n"
          ]
        }
      ]
    },
    {
      "cell_type": "code",
      "source": [
        "int(True)"
      ],
      "metadata": {
        "colab": {
          "base_uri": "https://localhost:8080/"
        },
        "id": "Qn1XcNsTlVqb",
        "outputId": "6798840a-773e-4971-a100-4d402a6a2116"
      },
      "execution_count": 106,
      "outputs": [
        {
          "output_type": "execute_result",
          "data": {
            "text/plain": [
              "1"
            ]
          },
          "metadata": {},
          "execution_count": 106
        }
      ]
    },
    {
      "cell_type": "code",
      "source": [
        "True == 1"
      ],
      "metadata": {
        "colab": {
          "base_uri": "https://localhost:8080/"
        },
        "id": "lHDjCu74ojaZ",
        "outputId": "253d0c31-8e58-45cf-9d24-81945d1321cc"
      },
      "execution_count": 107,
      "outputs": [
        {
          "output_type": "execute_result",
          "data": {
            "text/plain": [
              "True"
            ]
          },
          "metadata": {},
          "execution_count": 107
        }
      ]
    },
    {
      "cell_type": "code",
      "source": [
        "True is 1"
      ],
      "metadata": {
        "colab": {
          "base_uri": "https://localhost:8080/"
        },
        "id": "xQ7rncnqoqP9",
        "outputId": "1cd6e20b-0e29-45a1-8420-d1b7da8b6e18"
      },
      "execution_count": 108,
      "outputs": [
        {
          "output_type": "stream",
          "name": "stderr",
          "text": [
            "<>:1: SyntaxWarning: \"is\" with a literal. Did you mean \"==\"?\n",
            "<>:1: SyntaxWarning: \"is\" with a literal. Did you mean \"==\"?\n",
            "<ipython-input-108-0acca4945321>:1: SyntaxWarning: \"is\" with a literal. Did you mean \"==\"?\n",
            "  True is 1\n"
          ]
        },
        {
          "output_type": "execute_result",
          "data": {
            "text/plain": [
              "False"
            ]
          },
          "metadata": {},
          "execution_count": 108
        }
      ]
    },
    {
      "cell_type": "code",
      "source": [
        "True > False"
      ],
      "metadata": {
        "colab": {
          "base_uri": "https://localhost:8080/"
        },
        "id": "dka5RAdqossi",
        "outputId": "f0380c76-a6c2-41fe-a007-6dbc2738da28"
      },
      "execution_count": 109,
      "outputs": [
        {
          "output_type": "execute_result",
          "data": {
            "text/plain": [
              "True"
            ]
          },
          "metadata": {},
          "execution_count": 109
        }
      ]
    },
    {
      "cell_type": "code",
      "source": [
        "(1==2) == False"
      ],
      "metadata": {
        "colab": {
          "base_uri": "https://localhost:8080/"
        },
        "id": "L3mZN5cPpCAg",
        "outputId": "435f578f-2848-44b0-c6ca-d5b93b4b3605"
      },
      "execution_count": 110,
      "outputs": [
        {
          "output_type": "execute_result",
          "data": {
            "text/plain": [
              "True"
            ]
          },
          "metadata": {},
          "execution_count": 110
        }
      ]
    },
    {
      "cell_type": "code",
      "source": [
        "id(True)"
      ],
      "metadata": {
        "colab": {
          "base_uri": "https://localhost:8080/"
        },
        "id": "khnPYiVNpG1s",
        "outputId": "ae047e59-5329-40e8-dcc0-4c028208b4c5"
      },
      "execution_count": 111,
      "outputs": [
        {
          "output_type": "execute_result",
          "data": {
            "text/plain": [
              "9744768"
            ]
          },
          "metadata": {},
          "execution_count": 111
        }
      ]
    },
    {
      "cell_type": "code",
      "source": [
        "print('Truth table of AND gate using True and False')\n",
        "print('--------------------')\n",
        "print('0 0 is {0}'.format(int(True and False)))\n",
        "print('0 1 is {0}'.format(int(True and False)))\n",
        "print('1 0 is {0}'.format(int(True and False)))\n",
        "print('1 1 is {0}'.format(int(True and True)))"
      ],
      "metadata": {
        "colab": {
          "base_uri": "https://localhost:8080/"
        },
        "id": "A_rH2TTjqDKy",
        "outputId": "5354b036-7e32-4ce5-f285-7cb9c9366eed"
      },
      "execution_count": 112,
      "outputs": [
        {
          "output_type": "stream",
          "name": "stdout",
          "text": [
            "Truth table of AND gate using True and False\n",
            "--------------------\n",
            "0 0 is 0\n",
            "0 1 is 0\n",
            "1 0 is 0\n",
            "1 1 is 1\n"
          ]
        }
      ]
    },
    {
      "cell_type": "code",
      "source": [
        "s = 'python'"
      ],
      "metadata": {
        "id": "iPIBrjLJqkvO"
      },
      "execution_count": 113,
      "outputs": []
    },
    {
      "cell_type": "code",
      "source": [
        "a,b,*c,d = s"
      ],
      "metadata": {
        "id": "hsGUJQHKgnrg"
      },
      "execution_count": 114,
      "outputs": []
    },
    {
      "cell_type": "code",
      "source": [
        "a"
      ],
      "metadata": {
        "colab": {
          "base_uri": "https://localhost:8080/",
          "height": 36
        },
        "id": "Mbfq6pbWgvU9",
        "outputId": "1ad103d9-8e7c-48a1-d914-565a3ac1f2f6"
      },
      "execution_count": 115,
      "outputs": [
        {
          "output_type": "execute_result",
          "data": {
            "text/plain": [
              "'p'"
            ],
            "application/vnd.google.colaboratory.intrinsic+json": {
              "type": "string"
            }
          },
          "metadata": {},
          "execution_count": 115
        }
      ]
    },
    {
      "cell_type": "code",
      "source": [
        "b"
      ],
      "metadata": {
        "colab": {
          "base_uri": "https://localhost:8080/",
          "height": 36
        },
        "id": "dzPRLL_pgxcg",
        "outputId": "d2ed77ee-c7f8-4ad7-a0e3-38b9cb4dcfc4"
      },
      "execution_count": 116,
      "outputs": [
        {
          "output_type": "execute_result",
          "data": {
            "text/plain": [
              "'y'"
            ],
            "application/vnd.google.colaboratory.intrinsic+json": {
              "type": "string"
            }
          },
          "metadata": {},
          "execution_count": 116
        }
      ]
    },
    {
      "cell_type": "code",
      "source": [
        "c"
      ],
      "metadata": {
        "colab": {
          "base_uri": "https://localhost:8080/"
        },
        "id": "9nvgMivNgxir",
        "outputId": "e883390a-9f2a-494c-fbe2-064b7d4a7994"
      },
      "execution_count": 117,
      "outputs": [
        {
          "output_type": "execute_result",
          "data": {
            "text/plain": [
              "['t', 'h', 'o']"
            ]
          },
          "metadata": {},
          "execution_count": 117
        }
      ]
    },
    {
      "cell_type": "code",
      "source": [
        "d"
      ],
      "metadata": {
        "colab": {
          "base_uri": "https://localhost:8080/",
          "height": 36
        },
        "id": "pgXof1QfgyBs",
        "outputId": "0e83529e-6e99-4233-dddb-8fbf48a36628"
      },
      "execution_count": 118,
      "outputs": [
        {
          "output_type": "execute_result",
          "data": {
            "text/plain": [
              "'n'"
            ],
            "application/vnd.google.colaboratory.intrinsic+json": {
              "type": "string"
            }
          },
          "metadata": {},
          "execution_count": 118
        }
      ]
    },
    {
      "cell_type": "code",
      "source": [
        "l1 = [1,2,3]\n",
        "l2 = [4,5,6]\n",
        "\n",
        "l = [*l1,*l2]"
      ],
      "metadata": {
        "id": "AxYln-NFgyRy"
      },
      "execution_count": 119,
      "outputs": []
    },
    {
      "cell_type": "code",
      "source": [
        "l"
      ],
      "metadata": {
        "colab": {
          "base_uri": "https://localhost:8080/"
        },
        "id": "xLTi_GF0g-Yd",
        "outputId": "ce3b087c-8fb5-4ef7-c4f4-e621d6d72293"
      },
      "execution_count": 120,
      "outputs": [
        {
          "output_type": "execute_result",
          "data": {
            "text/plain": [
              "[1, 2, 3, 4, 5, 6]"
            ]
          },
          "metadata": {},
          "execution_count": 120
        }
      ]
    },
    {
      "cell_type": "code",
      "source": [
        "def func(**kwargs):\n",
        "  print(kwargs)\n",
        "\n",
        "func(a=1,b=2,c=3)"
      ],
      "metadata": {
        "colab": {
          "base_uri": "https://localhost:8080/"
        },
        "id": "4B1z3nvwhAg6",
        "outputId": "52169978-5aec-4940-cc0d-bf59a6c19f48"
      },
      "execution_count": 121,
      "outputs": [
        {
          "output_type": "stream",
          "name": "stdout",
          "text": [
            "{'a': 1, 'b': 2, 'c': 3}\n"
          ]
        }
      ]
    },
    {
      "cell_type": "code",
      "source": [
        "def f(*args,**kwargs):\n",
        "  print(args,kwargs)\n",
        "\n",
        "f(1,2,3,a=4,b=5,c=6)"
      ],
      "metadata": {
        "colab": {
          "base_uri": "https://localhost:8080/"
        },
        "id": "-iEjI2F0oehF",
        "outputId": "b4d6f436-e71a-4241-b976-923966e0f87a"
      },
      "execution_count": 123,
      "outputs": [
        {
          "output_type": "stream",
          "name": "stdout",
          "text": [
            "(1, 2, 3) {'a': 4, 'b': 5, 'c': 6}\n"
          ]
        }
      ]
    },
    {
      "cell_type": "code",
      "source": [
        "from datetime import datetime\n",
        "\n",
        "def log(msg, *, dt = None):\n",
        "    dt = dt or datetime.utcnow()\n",
        "    print('{0}:{1}'.format(msg,dt))\n",
        "\n",
        "log('message1')"
      ],
      "metadata": {
        "colab": {
          "base_uri": "https://localhost:8080/"
        },
        "id": "JffFtubw1oEg",
        "outputId": "fbf42da8-188b-4314-fa5d-970353717571"
      },
      "execution_count": 124,
      "outputs": [
        {
          "output_type": "stream",
          "name": "stdout",
          "text": [
            "message1:2023-06-26 15:45:17.332643\n"
          ]
        }
      ]
    },
    {
      "cell_type": "code",
      "source": [
        "log('message2', dt = None)"
      ],
      "metadata": {
        "colab": {
          "base_uri": "https://localhost:8080/"
        },
        "id": "zlDYi9gu2RqX",
        "outputId": "0c5d6e15-febb-460d-cce6-7eca1a43148b"
      },
      "execution_count": 125,
      "outputs": [
        {
          "output_type": "stream",
          "name": "stdout",
          "text": [
            "message2:2023-06-26 15:45:19.050481\n"
          ]
        }
      ]
    },
    {
      "cell_type": "code",
      "source": [
        "log('message', dt = 2)\n"
      ],
      "metadata": {
        "colab": {
          "base_uri": "https://localhost:8080/"
        },
        "id": "XqsgeT3R2XrU",
        "outputId": "71f45a67-a24d-4d58-d290-776c4f912dae"
      },
      "execution_count": 126,
      "outputs": [
        {
          "output_type": "stream",
          "name": "stdout",
          "text": [
            "message:2\n"
          ]
        }
      ]
    },
    {
      "cell_type": "code",
      "source": [
        "def factorial(n,* , cache):\n",
        "  if(n<1):\n",
        "    return 1\n",
        "  elif n in cache:\n",
        "    return cache[n]\n",
        "  else:\n",
        "    print('fact of {0}'.format(n))\n",
        "    result = n*factorial(n-1,cache=cache)\n",
        "    cache[n] = result\n",
        "    return result"
      ],
      "metadata": {
        "id": "5xeXxPPt4gVf"
      },
      "execution_count": 127,
      "outputs": []
    },
    {
      "cell_type": "code",
      "source": [
        "cache = {}"
      ],
      "metadata": {
        "id": "KTdVZEaY9_17"
      },
      "execution_count": 128,
      "outputs": []
    },
    {
      "cell_type": "code",
      "source": [
        "factorial(3,cache = cache)"
      ],
      "metadata": {
        "colab": {
          "base_uri": "https://localhost:8080/"
        },
        "id": "U7XrmWc5-CTW",
        "outputId": "69227421-c497-4e4d-8ca0-ef6d8c1d703d"
      },
      "execution_count": 129,
      "outputs": [
        {
          "output_type": "stream",
          "name": "stdout",
          "text": [
            "fact of 3\n",
            "fact of 2\n",
            "fact of 1\n"
          ]
        },
        {
          "output_type": "execute_result",
          "data": {
            "text/plain": [
              "6"
            ]
          },
          "metadata": {},
          "execution_count": 129
        }
      ]
    },
    {
      "cell_type": "code",
      "source": [
        "factorial(3,cache = cache)"
      ],
      "metadata": {
        "colab": {
          "base_uri": "https://localhost:8080/"
        },
        "id": "6TfDW2-3-FCJ",
        "outputId": "a193bd13-f9d9-4d64-e876-f99c5c68b7ec"
      },
      "execution_count": 130,
      "outputs": [
        {
          "output_type": "execute_result",
          "data": {
            "text/plain": [
              "6"
            ]
          },
          "metadata": {},
          "execution_count": 130
        }
      ]
    },
    {
      "cell_type": "code",
      "source": [
        "cache"
      ],
      "metadata": {
        "colab": {
          "base_uri": "https://localhost:8080/"
        },
        "id": "6H7x8j4q-rDa",
        "outputId": "a8305a2e-a551-479c-ae74-90687eb5489e"
      },
      "execution_count": 131,
      "outputs": [
        {
          "output_type": "execute_result",
          "data": {
            "text/plain": [
              "{1: 1, 2: 2, 3: 6}"
            ]
          },
          "metadata": {},
          "execution_count": 131
        }
      ]
    },
    {
      "cell_type": "code",
      "source": [
        "factorial(4,cache = cache)"
      ],
      "metadata": {
        "colab": {
          "base_uri": "https://localhost:8080/"
        },
        "id": "qUdunHNT-xaf",
        "outputId": "40b83574-0c3a-4d4a-8da0-3e8c112661f8"
      },
      "execution_count": 132,
      "outputs": [
        {
          "output_type": "stream",
          "name": "stdout",
          "text": [
            "fact of 4\n"
          ]
        },
        {
          "output_type": "execute_result",
          "data": {
            "text/plain": [
              "24"
            ]
          },
          "metadata": {},
          "execution_count": 132
        }
      ]
    },
    {
      "cell_type": "code",
      "source": [
        "factorial.__doc__ = 'factorial function'"
      ],
      "metadata": {
        "id": "TRqq6Ppx-8XY"
      },
      "execution_count": 133,
      "outputs": []
    },
    {
      "cell_type": "code",
      "source": [
        "factorial.__doc__"
      ],
      "metadata": {
        "colab": {
          "base_uri": "https://localhost:8080/",
          "height": 36
        },
        "id": "XMQzaYSdMHOI",
        "outputId": "aa39c952-0368-48ad-d47f-a3e494cd7213"
      },
      "execution_count": 134,
      "outputs": [
        {
          "output_type": "execute_result",
          "data": {
            "text/plain": [
              "'factorial function'"
            ],
            "application/vnd.google.colaboratory.intrinsic+json": {
              "type": "string"
            }
          },
          "metadata": {},
          "execution_count": 134
        }
      ]
    },
    {
      "cell_type": "code",
      "source": [
        "help(factorial)"
      ],
      "metadata": {
        "colab": {
          "base_uri": "https://localhost:8080/"
        },
        "id": "qRt-QaIpMQKc",
        "outputId": "353aee47-f4fe-47eb-f152-80c9faab6ef8"
      },
      "execution_count": 135,
      "outputs": [
        {
          "output_type": "stream",
          "name": "stdout",
          "text": [
            "Help on function factorial in module __main__:\n",
            "\n",
            "factorial(n, *, cache)\n",
            "    factorial function\n",
            "\n"
          ]
        }
      ]
    },
    {
      "cell_type": "code",
      "source": [
        "a = lambda x: x**2"
      ],
      "metadata": {
        "id": "C0LKb2_YMvtY"
      },
      "execution_count": 136,
      "outputs": []
    },
    {
      "cell_type": "code",
      "source": [
        "a(2)"
      ],
      "metadata": {
        "colab": {
          "base_uri": "https://localhost:8080/"
        },
        "id": "k3Ihp3wUQcnS",
        "outputId": "b10a0458-c2b4-4a34-a658-924d29d8139e"
      },
      "execution_count": 137,
      "outputs": [
        {
          "output_type": "execute_result",
          "data": {
            "text/plain": [
              "4"
            ]
          },
          "metadata": {},
          "execution_count": 137
        }
      ]
    },
    {
      "cell_type": "code",
      "source": [
        "b = lambda x,fn: fn(x)"
      ],
      "metadata": {
        "id": "D9uOmuu5QdN8"
      },
      "execution_count": 138,
      "outputs": []
    },
    {
      "cell_type": "code",
      "source": [
        "b(3,a)"
      ],
      "metadata": {
        "colab": {
          "base_uri": "https://localhost:8080/"
        },
        "id": "lV-ze5JWQs_3",
        "outputId": "520728d3-ed04-4b9b-d7a3-63b54a7750e1"
      },
      "execution_count": 139,
      "outputs": [
        {
          "output_type": "execute_result",
          "data": {
            "text/plain": [
              "9"
            ]
          },
          "metadata": {},
          "execution_count": 139
        }
      ]
    },
    {
      "cell_type": "code",
      "source": [
        "id(a)"
      ],
      "metadata": {
        "colab": {
          "base_uri": "https://localhost:8080/"
        },
        "id": "7glCGkpVQu90",
        "outputId": "a827431c-afce-463b-e08e-57facb7a34bc"
      },
      "execution_count": 140,
      "outputs": [
        {
          "output_type": "execute_result",
          "data": {
            "text/plain": [
              "140478117303568"
            ]
          },
          "metadata": {},
          "execution_count": 140
        }
      ]
    },
    {
      "cell_type": "code",
      "source": [
        "d = {'a':2,'b':1}"
      ],
      "metadata": {
        "id": "zgU5YPTaQ6KQ"
      },
      "execution_count": 141,
      "outputs": []
    },
    {
      "cell_type": "code",
      "source": [
        "sorted(d,key = lambda e: d[e])"
      ],
      "metadata": {
        "colab": {
          "base_uri": "https://localhost:8080/"
        },
        "id": "EVikgUdzUkCh",
        "outputId": "9c9b2d8d-e76f-4708-ee9d-a87f06ab5610"
      },
      "execution_count": 142,
      "outputs": [
        {
          "output_type": "execute_result",
          "data": {
            "text/plain": [
              "['b', 'a']"
            ]
          },
          "metadata": {},
          "execution_count": 142
        }
      ]
    },
    {
      "cell_type": "markdown",
      "source": [
        "Challenge"
      ],
      "metadata": {
        "id": "1mXFaThRWjPr"
      }
    },
    {
      "cell_type": "code",
      "source": [
        "import random\n",
        "l = [1,2,3,4,5,6,7,8,9]\n",
        "\n",
        "sorted(l,key = lambda e:random.random())"
      ],
      "metadata": {
        "colab": {
          "base_uri": "https://localhost:8080/"
        },
        "id": "sJGmiRbRWkq0",
        "outputId": "ead6c16a-01df-4afa-d66b-5bc4261aa7d4"
      },
      "execution_count": 143,
      "outputs": [
        {
          "output_type": "execute_result",
          "data": {
            "text/plain": [
              "[4, 6, 3, 2, 7, 5, 9, 8, 1]"
            ]
          },
          "metadata": {},
          "execution_count": 143
        }
      ]
    },
    {
      "cell_type": "code",
      "source": [
        "l1 = [1,2,3]\n",
        "l2 = [4,5,6]"
      ],
      "metadata": {
        "id": "eJYBroozmItA"
      },
      "execution_count": 145,
      "outputs": []
    },
    {
      "cell_type": "code",
      "source": [
        "[x+y for x,y in zip(l1,l2)]"
      ],
      "metadata": {
        "colab": {
          "base_uri": "https://localhost:8080/"
        },
        "id": "yQ20n6Vtvh7K",
        "outputId": "27053a39-0637-49b6-d3ac-8f349ce16095"
      },
      "execution_count": 146,
      "outputs": [
        {
          "output_type": "execute_result",
          "data": {
            "text/plain": [
              "[5, 7, 9]"
            ]
          },
          "metadata": {},
          "execution_count": 146
        }
      ]
    },
    {
      "cell_type": "code",
      "source": [
        "l = 1,2,3,4\n",
        "\n",
        "if(all(l)):\n",
        "  print('y')\n",
        "else:\n",
        "  print('n')"
      ],
      "metadata": {
        "id": "YXwzcfpRvjb4",
        "colab": {
          "base_uri": "https://localhost:8080/"
        },
        "outputId": "7dd15cce-b09a-4388-8cbe-dda726b13bb3"
      },
      "execution_count": 147,
      "outputs": [
        {
          "output_type": "stream",
          "name": "stdout",
          "text": [
            "y\n"
          ]
        }
      ]
    },
    {
      "cell_type": "code",
      "source": [
        "from functools import reduce\n",
        "\n",
        "l = [1,2,3,4]\n",
        "\n",
        "reduce(lambda x,y:x*y,l)"
      ],
      "metadata": {
        "colab": {
          "base_uri": "https://localhost:8080/"
        },
        "id": "RS-c3PBvqby-",
        "outputId": "40dd74c5-a451-4ef5-9ed7-e92cfe476b30"
      },
      "execution_count": 148,
      "outputs": [
        {
          "output_type": "execute_result",
          "data": {
            "text/plain": [
              "24"
            ]
          },
          "metadata": {},
          "execution_count": 148
        }
      ]
    },
    {
      "cell_type": "code",
      "source": [
        "min_int = lambda x,y: x if x<y else y"
      ],
      "metadata": {
        "id": "u7_IBW1zrS5Y"
      },
      "execution_count": 149,
      "outputs": []
    },
    {
      "cell_type": "code",
      "source": [
        "def min_seq(l):\n",
        "  res = l[0]\n",
        "  for i in l[1:]:\n",
        "    res = min_int(res,i)\n",
        "  return res"
      ],
      "metadata": {
        "id": "_mshCQberVgK"
      },
      "execution_count": 150,
      "outputs": []
    },
    {
      "cell_type": "code",
      "source": [
        "l=[1,2,3,4]\n",
        "min_seq(l)"
      ],
      "metadata": {
        "colab": {
          "base_uri": "https://localhost:8080/"
        },
        "id": "zjRhlvXAsp-j",
        "outputId": "fecffb3b-2378-4a97-c143-47e33bcb1fec"
      },
      "execution_count": 151,
      "outputs": [
        {
          "output_type": "execute_result",
          "data": {
            "text/plain": [
              "1"
            ]
          },
          "metadata": {},
          "execution_count": 151
        }
      ]
    },
    {
      "cell_type": "code",
      "source": [
        "_add = lambda x,y:x+y"
      ],
      "metadata": {
        "id": "3hQRKiNZxQdk"
      },
      "execution_count": 152,
      "outputs": []
    },
    {
      "cell_type": "code",
      "source": [
        "def add_seq(l):\n",
        "  res = l[0]\n",
        "  for i in l[1:]:\n",
        "    res = _add(res,i)\n",
        "  return res"
      ],
      "metadata": {
        "id": "2HqQSFMFxV4r"
      },
      "execution_count": 153,
      "outputs": []
    },
    {
      "cell_type": "code",
      "source": [
        "l = [1,2,3,4]"
      ],
      "metadata": {
        "id": "O3FMyHHExl5t"
      },
      "execution_count": 154,
      "outputs": []
    },
    {
      "cell_type": "code",
      "source": [
        "def _reduce(fn,seq):\n",
        "  res = seq[0]\n",
        "  for i in seq[1:]:\n",
        "    res = fn(res,i)\n",
        "  return res"
      ],
      "metadata": {
        "id": "h2eiXd2qsznL"
      },
      "execution_count": 155,
      "outputs": []
    },
    {
      "cell_type": "code",
      "source": [
        "_reduce(min_int,l)"
      ],
      "metadata": {
        "colab": {
          "base_uri": "https://localhost:8080/"
        },
        "id": "tPow0EavwoGP",
        "outputId": "d56d88c9-bfaf-4d92-acf1-d5b4c10153c5"
      },
      "execution_count": 156,
      "outputs": [
        {
          "output_type": "execute_result",
          "data": {
            "text/plain": [
              "1"
            ]
          },
          "metadata": {},
          "execution_count": 156
        }
      ]
    },
    {
      "cell_type": "code",
      "source": [
        "def _reduce(fn,seq,initial):\n",
        "  res = initial\n",
        "  for i in seq:\n",
        "    res = fn(res,i)\n",
        "  return res"
      ],
      "metadata": {
        "id": "WBctXdO3zF54"
      },
      "execution_count": 157,
      "outputs": []
    },
    {
      "cell_type": "code",
      "source": [
        "l=[1,2,3,4]\n",
        "_reduce(lambda x,y:x+y,l,100)"
      ],
      "metadata": {
        "colab": {
          "base_uri": "https://localhost:8080/"
        },
        "id": "iH87qvpxwtv_",
        "outputId": "8e38031e-822f-45ae-9073-be8e189c976b"
      },
      "execution_count": 158,
      "outputs": [
        {
          "output_type": "execute_result",
          "data": {
            "text/plain": [
              "110"
            ]
          },
          "metadata": {},
          "execution_count": 158
        }
      ]
    },
    {
      "cell_type": "code",
      "source": [
        "def my_func(a,b,c):\n",
        "  return (a,b,c)"
      ],
      "metadata": {
        "id": "0QXJ0U81yY6G"
      },
      "execution_count": 159,
      "outputs": []
    },
    {
      "cell_type": "code",
      "source": [
        "my_func(10,20,30)"
      ],
      "metadata": {
        "colab": {
          "base_uri": "https://localhost:8080/"
        },
        "id": "E9LxRwzr3Kyq",
        "outputId": "64080983-9006-42cf-a997-f47a16ac6c39"
      },
      "execution_count": 160,
      "outputs": [
        {
          "output_type": "execute_result",
          "data": {
            "text/plain": [
              "(10, 20, 30)"
            ]
          },
          "metadata": {},
          "execution_count": 160
        }
      ]
    },
    {
      "cell_type": "code",
      "source": [
        "def f(b,c):\n",
        "  return my_func(10,b,c)"
      ],
      "metadata": {
        "id": "k6--_5I73MnM"
      },
      "execution_count": 161,
      "outputs": []
    },
    {
      "cell_type": "code",
      "source": [
        "f(20,30)"
      ],
      "metadata": {
        "colab": {
          "base_uri": "https://localhost:8080/"
        },
        "id": "hdIXQ9ww3RBW",
        "outputId": "d3493075-4721-4857-fc65-46a524f27303"
      },
      "execution_count": 162,
      "outputs": [
        {
          "output_type": "execute_result",
          "data": {
            "text/plain": [
              "(10, 20, 30)"
            ]
          },
          "metadata": {},
          "execution_count": 162
        }
      ]
    },
    {
      "cell_type": "code",
      "source": [
        "from functools import partial\n",
        "\n",
        "g = partial(my_func, 10)"
      ],
      "metadata": {
        "id": "RM3j9VcR3SQu"
      },
      "execution_count": 163,
      "outputs": []
    },
    {
      "cell_type": "code",
      "source": [
        "g"
      ],
      "metadata": {
        "colab": {
          "base_uri": "https://localhost:8080/"
        },
        "id": "GgLychM73jXC",
        "outputId": "d4e42689-c525-42a7-9429-2e2fa975aae2"
      },
      "execution_count": 164,
      "outputs": [
        {
          "output_type": "execute_result",
          "data": {
            "text/plain": [
              "functools.partial(<function my_func at 0x7fc39c4332e0>, 10)"
            ]
          },
          "metadata": {},
          "execution_count": 164
        }
      ]
    },
    {
      "cell_type": "code",
      "source": [
        "g(20,30)"
      ],
      "metadata": {
        "colab": {
          "base_uri": "https://localhost:8080/"
        },
        "id": "EvitoTZf3kJP",
        "outputId": "79f5d3aa-3d1c-4c8d-c229-b793c56b1374"
      },
      "execution_count": 165,
      "outputs": [
        {
          "output_type": "execute_result",
          "data": {
            "text/plain": [
              "(10, 20, 30)"
            ]
          },
          "metadata": {},
          "execution_count": 165
        }
      ]
    },
    {
      "cell_type": "code",
      "source": [
        "def power(base,exp):\n",
        "  return base**exp\n"
      ],
      "metadata": {
        "id": "q3pgVAGm3mU2"
      },
      "execution_count": 166,
      "outputs": []
    },
    {
      "cell_type": "code",
      "source": [
        "sq = partial(power,exp = 2)"
      ],
      "metadata": {
        "id": "_zmwPEE_-oKi"
      },
      "execution_count": 167,
      "outputs": []
    },
    {
      "cell_type": "code",
      "source": [
        "sq(2)"
      ],
      "metadata": {
        "colab": {
          "base_uri": "https://localhost:8080/"
        },
        "id": "mCMrMqHt-y-v",
        "outputId": "7d1e812a-474b-4d52-ac27-e0ae5a4ba7a4"
      },
      "execution_count": 168,
      "outputs": [
        {
          "output_type": "execute_result",
          "data": {
            "text/plain": [
              "4"
            ]
          },
          "metadata": {},
          "execution_count": 168
        }
      ]
    },
    {
      "cell_type": "code",
      "source": [
        "cu = partial(power, exp = 3)"
      ],
      "metadata": {
        "id": "bnQXYP4C-0Sr"
      },
      "execution_count": 169,
      "outputs": []
    },
    {
      "cell_type": "code",
      "source": [
        "cu(3)"
      ],
      "metadata": {
        "colab": {
          "base_uri": "https://localhost:8080/"
        },
        "id": "ZAzFpWAQ-5wB",
        "outputId": "402623d0-4b3c-4462-c8b4-4db02b78b133"
      },
      "execution_count": 170,
      "outputs": [
        {
          "output_type": "execute_result",
          "data": {
            "text/plain": [
              "27"
            ]
          },
          "metadata": {},
          "execution_count": 170
        }
      ]
    },
    {
      "cell_type": "code",
      "source": [
        "import operator\n",
        "s=[1,2,3,3,4,1]\n",
        "operator.countOf(s,1)"
      ],
      "metadata": {
        "colab": {
          "base_uri": "https://localhost:8080/"
        },
        "id": "muit5HAY-6un",
        "outputId": "0291ebb2-8942-492e-a8fa-0c95ed9e631b"
      },
      "execution_count": 171,
      "outputs": [
        {
          "output_type": "execute_result",
          "data": {
            "text/plain": [
              "2"
            ]
          },
          "metadata": {},
          "execution_count": 171
        }
      ]
    },
    {
      "cell_type": "code",
      "source": [
        "l = [1,2,3,4]\n",
        "\n",
        "b = operator.itemgetter(2) #index of list\n",
        "\n",
        "b(l)"
      ],
      "metadata": {
        "colab": {
          "base_uri": "https://localhost:8080/"
        },
        "id": "3EEK3pY7_8yI",
        "outputId": "5a6f1c3e-0019-4032-f3b1-4cfef35286f3"
      },
      "execution_count": 172,
      "outputs": [
        {
          "output_type": "execute_result",
          "data": {
            "text/plain": [
              "3"
            ]
          },
          "metadata": {},
          "execution_count": 172
        }
      ]
    },
    {
      "cell_type": "code",
      "source": [
        "class myclass:\n",
        "  def __init__(self):\n",
        "    print('into myclass')\n",
        "    self.a = 10\n",
        "    self.b = 20\n",
        "    self.c = 30\n",
        "  def first(self):\n",
        "    return ('myclass running...')"
      ],
      "metadata": {
        "id": "G7OJOsX_EkS9"
      },
      "execution_count": 173,
      "outputs": []
    },
    {
      "cell_type": "code",
      "source": [
        "obj = myclass()"
      ],
      "metadata": {
        "id": "O8rzxAGyEylH",
        "colab": {
          "base_uri": "https://localhost:8080/"
        },
        "outputId": "dea673b2-302f-45da-b74e-5a4a32022378"
      },
      "execution_count": 174,
      "outputs": [
        {
          "output_type": "stream",
          "name": "stdout",
          "text": [
            "into myclass\n"
          ]
        }
      ]
    },
    {
      "cell_type": "code",
      "source": [
        "obj.a"
      ],
      "metadata": {
        "colab": {
          "base_uri": "https://localhost:8080/"
        },
        "id": "osWnKPi-E1PS",
        "outputId": "7907b6af-6f26-46f0-f537-befe56346a03"
      },
      "execution_count": 175,
      "outputs": [
        {
          "output_type": "execute_result",
          "data": {
            "text/plain": [
              "10"
            ]
          },
          "metadata": {},
          "execution_count": 175
        }
      ]
    },
    {
      "cell_type": "code",
      "source": [
        "obj.b"
      ],
      "metadata": {
        "colab": {
          "base_uri": "https://localhost:8080/"
        },
        "id": "SOHW_RaEE2A4",
        "outputId": "3abbf117-4594-483e-87b4-4b8d296efc79"
      },
      "execution_count": 176,
      "outputs": [
        {
          "output_type": "execute_result",
          "data": {
            "text/plain": [
              "20"
            ]
          },
          "metadata": {},
          "execution_count": 176
        }
      ]
    },
    {
      "cell_type": "code",
      "source": [
        "obj.first"
      ],
      "metadata": {
        "colab": {
          "base_uri": "https://localhost:8080/"
        },
        "id": "BtgQ6oSAE2kz",
        "outputId": "5ec67776-f7a5-41dd-e3ef-e7f9197dc8c5"
      },
      "execution_count": 177,
      "outputs": [
        {
          "output_type": "execute_result",
          "data": {
            "text/plain": [
              "<bound method myclass.first of <__main__.myclass object at 0x7fc39cfa13f0>>"
            ]
          },
          "metadata": {},
          "execution_count": 177
        }
      ]
    },
    {
      "cell_type": "code",
      "source": [
        "obj.first()"
      ],
      "metadata": {
        "colab": {
          "base_uri": "https://localhost:8080/",
          "height": 36
        },
        "id": "mZs1t5jBE4IQ",
        "outputId": "569019a4-1480-45f5-d4e6-70d822f5a75e"
      },
      "execution_count": 178,
      "outputs": [
        {
          "output_type": "execute_result",
          "data": {
            "text/plain": [
              "'myclass running...'"
            ],
            "application/vnd.google.colaboratory.intrinsic+json": {
              "type": "string"
            }
          },
          "metadata": {},
          "execution_count": 178
        }
      ]
    },
    {
      "cell_type": "code",
      "source": [
        "f = operator.attrgetter('a')\n",
        "f(obj)"
      ],
      "metadata": {
        "colab": {
          "base_uri": "https://localhost:8080/"
        },
        "id": "Ao6LusUKE5WQ",
        "outputId": "6b4a03be-381b-454f-a02b-646a8617802b"
      },
      "execution_count": 179,
      "outputs": [
        {
          "output_type": "execute_result",
          "data": {
            "text/plain": [
              "10"
            ]
          },
          "metadata": {},
          "execution_count": 179
        }
      ]
    },
    {
      "cell_type": "code",
      "source": [
        "#closure\n",
        "def outer():\n",
        "  x='python'\n",
        "  def inner():\n",
        "    print('{0} rocks!'.format(x))\n",
        "  return inner"
      ],
      "metadata": {
        "id": "IwVc4XQSqC9b"
      },
      "execution_count": 180,
      "outputs": []
    },
    {
      "cell_type": "code",
      "source": [
        "fn = outer()"
      ],
      "metadata": {
        "id": "UNVqr4bfzTaP"
      },
      "execution_count": 181,
      "outputs": []
    },
    {
      "cell_type": "code",
      "source": [
        "fn()"
      ],
      "metadata": {
        "colab": {
          "base_uri": "https://localhost:8080/"
        },
        "id": "z40nh6yUzThi",
        "outputId": "86dc6460-c8e9-4a6b-a62f-3c952ba8ce9a"
      },
      "execution_count": 182,
      "outputs": [
        {
          "output_type": "stream",
          "name": "stdout",
          "text": [
            "python rocks!\n"
          ]
        }
      ]
    },
    {
      "cell_type": "code",
      "source": [
        "class averager:\n",
        "  def __init__(self):\n",
        "    self.num = []\n",
        "\n",
        "  def add(self,number):\n",
        "    self.num.append(number)\n",
        "    tot = sum(self.num)\n",
        "    count = len(self.num)\n",
        "    return tot/count"
      ],
      "metadata": {
        "id": "1Yq5V9BgubtM"
      },
      "execution_count": 183,
      "outputs": []
    },
    {
      "cell_type": "code",
      "source": [
        "a = averager()"
      ],
      "metadata": {
        "id": "BJKibTpZfriP"
      },
      "execution_count": 184,
      "outputs": []
    },
    {
      "cell_type": "code",
      "source": [
        "a.add(10)"
      ],
      "metadata": {
        "colab": {
          "base_uri": "https://localhost:8080/"
        },
        "id": "gX6v6YykfvCt",
        "outputId": "4c3c9ffc-be1d-48d2-bceb-81e34c791dd7"
      },
      "execution_count": 185,
      "outputs": [
        {
          "output_type": "execute_result",
          "data": {
            "text/plain": [
              "10.0"
            ]
          },
          "metadata": {},
          "execution_count": 185
        }
      ]
    },
    {
      "cell_type": "code",
      "source": [
        "a.add(20)"
      ],
      "metadata": {
        "colab": {
          "base_uri": "https://localhost:8080/"
        },
        "id": "X1GT0qyYfwJE",
        "outputId": "da672800-c9be-4bc9-9a44-6cf2df3c159f"
      },
      "execution_count": 186,
      "outputs": [
        {
          "output_type": "execute_result",
          "data": {
            "text/plain": [
              "15.0"
            ]
          },
          "metadata": {},
          "execution_count": 186
        }
      ]
    },
    {
      "cell_type": "code",
      "source": [
        "def averager():\n",
        "  num = []\n",
        "  def add(number):\n",
        "    num.append(number)\n",
        "    tot = sum(num)\n",
        "    count = len(num)\n",
        "    return tot/count\n",
        "  return add"
      ],
      "metadata": {
        "id": "JpVIbIsafx6_"
      },
      "execution_count": 187,
      "outputs": []
    },
    {
      "cell_type": "code",
      "source": [
        "b = averager()"
      ],
      "metadata": {
        "id": "iRaRdQZ0gF8X"
      },
      "execution_count": 188,
      "outputs": []
    },
    {
      "cell_type": "code",
      "source": [
        "b(10)"
      ],
      "metadata": {
        "colab": {
          "base_uri": "https://localhost:8080/"
        },
        "id": "XhFTufFmgPlJ",
        "outputId": "56288682-bf83-4dc6-d6eb-9a55df8c1de6"
      },
      "execution_count": 189,
      "outputs": [
        {
          "output_type": "execute_result",
          "data": {
            "text/plain": [
              "10.0"
            ]
          },
          "metadata": {},
          "execution_count": 189
        }
      ]
    },
    {
      "cell_type": "code",
      "source": [
        "b(20)"
      ],
      "metadata": {
        "colab": {
          "base_uri": "https://localhost:8080/"
        },
        "id": "xCKr-CNfgQh5",
        "outputId": "3d5a6474-1987-48ae-f50f-39737534c5d5"
      },
      "execution_count": 190,
      "outputs": [
        {
          "output_type": "execute_result",
          "data": {
            "text/plain": [
              "15.0"
            ]
          },
          "metadata": {},
          "execution_count": 190
        }
      ]
    },
    {
      "cell_type": "code",
      "source": [
        "b.__closure__"
      ],
      "metadata": {
        "colab": {
          "base_uri": "https://localhost:8080/"
        },
        "id": "fjUBrwL_gRqq",
        "outputId": "e8b33e14-f6e4-49e3-d5a4-bc396a3ec07f"
      },
      "execution_count": 191,
      "outputs": [
        {
          "output_type": "execute_result",
          "data": {
            "text/plain": [
              "(<cell at 0x7fc39cfa0760: list object at 0x7fc39c44a5c0>,)"
            ]
          },
          "metadata": {},
          "execution_count": 191
        }
      ]
    },
    {
      "cell_type": "code",
      "source": [
        "from time import perf_counter\n",
        "def Time():\n",
        "  start = perf_counter()\n",
        "  def poll():\n",
        "    return perf_counter()-start\n",
        "  return poll"
      ],
      "metadata": {
        "id": "BDVwsLUTgTX0"
      },
      "execution_count": 192,
      "outputs": []
    },
    {
      "cell_type": "code",
      "source": [
        "a = Time()"
      ],
      "metadata": {
        "id": "vDCl92K8gWx3"
      },
      "execution_count": 193,
      "outputs": []
    },
    {
      "cell_type": "code",
      "source": [
        "a()"
      ],
      "metadata": {
        "colab": {
          "base_uri": "https://localhost:8080/"
        },
        "id": "1MTT2nYTiSr2",
        "outputId": "ffd7baef-1ef3-4e39-ab80-8395a5249c52"
      },
      "execution_count": 194,
      "outputs": [
        {
          "output_type": "execute_result",
          "data": {
            "text/plain": [
              "1.043219851999993"
            ]
          },
          "metadata": {},
          "execution_count": 194
        }
      ]
    },
    {
      "cell_type": "code",
      "source": [
        "a()"
      ],
      "metadata": {
        "colab": {
          "base_uri": "https://localhost:8080/"
        },
        "id": "gjzGVeRNiTix",
        "outputId": "6f0d3341-aadc-4e55-b8a2-ffdbe8ec9fa6"
      },
      "execution_count": 195,
      "outputs": [
        {
          "output_type": "execute_result",
          "data": {
            "text/plain": [
              "2.3788714889999483"
            ]
          },
          "metadata": {},
          "execution_count": 195
        }
      ]
    },
    {
      "cell_type": "code",
      "source": [
        "#closure application 2\n",
        "def counter(fn,dic):\n",
        "  count = 0\n",
        "  def inner(*args, **kwargs):\n",
        "    nonlocal count\n",
        "    count+=1\n",
        "    dic[fn.__name__] = count\n",
        "    print('function {0} was called {1} times'.format(fn.__name__,count))\n",
        "    return fn(*args,**kwargs)\n",
        "  return inner"
      ],
      "metadata": {
        "id": "IKTPqjEHiVYJ"
      },
      "execution_count": 196,
      "outputs": []
    },
    {
      "cell_type": "code",
      "source": [
        "def add(a,b):\n",
        "  return a+b"
      ],
      "metadata": {
        "id": "7WZ6xn98jAki"
      },
      "execution_count": 197,
      "outputs": []
    },
    {
      "cell_type": "code",
      "source": [
        "c = dict()"
      ],
      "metadata": {
        "id": "hQsuhu8JjMgs"
      },
      "execution_count": 198,
      "outputs": []
    },
    {
      "cell_type": "code",
      "source": [
        "a = counter(add,c)"
      ],
      "metadata": {
        "id": "EeU2RftfjTOG"
      },
      "execution_count": 199,
      "outputs": []
    },
    {
      "cell_type": "code",
      "source": [
        "res = a(10,20)"
      ],
      "metadata": {
        "colab": {
          "base_uri": "https://localhost:8080/"
        },
        "id": "hZ72XfuXjVsJ",
        "outputId": "71ca5606-dc63-4c32-9c43-f4dbb6a3b3a7"
      },
      "execution_count": 200,
      "outputs": [
        {
          "output_type": "stream",
          "name": "stdout",
          "text": [
            "function add was called 1 times\n"
          ]
        }
      ]
    },
    {
      "cell_type": "code",
      "source": [
        "res"
      ],
      "metadata": {
        "colab": {
          "base_uri": "https://localhost:8080/"
        },
        "id": "fzMSX7rtz1fZ",
        "outputId": "0851fa86-adbf-45e1-ff37-24c1542a96f5"
      },
      "execution_count": 201,
      "outputs": [
        {
          "output_type": "execute_result",
          "data": {
            "text/plain": [
              "30"
            ]
          },
          "metadata": {},
          "execution_count": 201
        }
      ]
    },
    {
      "cell_type": "code",
      "source": [
        "c"
      ],
      "metadata": {
        "colab": {
          "base_uri": "https://localhost:8080/"
        },
        "id": "7VajklNoj_Fh",
        "outputId": "f9dd579e-5ac3-4070-cdfa-2bdea0b1a0bf"
      },
      "execution_count": 202,
      "outputs": [
        {
          "output_type": "execute_result",
          "data": {
            "text/plain": [
              "{'add': 1}"
            ]
          },
          "metadata": {},
          "execution_count": 202
        }
      ]
    },
    {
      "cell_type": "code",
      "source": [
        "#decorator\n",
        "def counter(fn):\n",
        "  count = 0\n",
        "  def inner(*args,**kwargs):\n",
        "    nonlocal count\n",
        "    count+=1\n",
        "    print('function {0} was called {1} times'.format(fn.__name__,count))\n",
        "    return fn(*args,**kwargs)\n",
        "  return inner"
      ],
      "metadata": {
        "id": "6uP2uC1wkCtH"
      },
      "execution_count": 203,
      "outputs": []
    },
    {
      "cell_type": "code",
      "source": [
        "@counter\n",
        "def add(a,b):\n",
        "  '''add function'''\n",
        "  return a+b"
      ],
      "metadata": {
        "id": "YhlhdG5R4J-C"
      },
      "execution_count": 204,
      "outputs": []
    },
    {
      "cell_type": "code",
      "source": [
        "help(add)"
      ],
      "metadata": {
        "colab": {
          "base_uri": "https://localhost:8080/"
        },
        "id": "O47csG7F6Am4",
        "outputId": "0fbd9287-63fe-46f2-8492-8594e64d55e5"
      },
      "execution_count": 205,
      "outputs": [
        {
          "output_type": "stream",
          "name": "stdout",
          "text": [
            "Help on function inner in module __main__:\n",
            "\n",
            "inner(*args, **kwargs)\n",
            "\n"
          ]
        }
      ]
    },
    {
      "cell_type": "code",
      "source": [
        "a= counter(add)"
      ],
      "metadata": {
        "id": "aSKK5XJ74WZ-"
      },
      "execution_count": 206,
      "outputs": []
    },
    {
      "cell_type": "code",
      "source": [
        "a.__closure__"
      ],
      "metadata": {
        "colab": {
          "base_uri": "https://localhost:8080/"
        },
        "id": "udls77th4fL3",
        "outputId": "edfe8b47-b18b-4cc7-f8a1-b0234c751ed4"
      },
      "execution_count": 207,
      "outputs": [
        {
          "output_type": "execute_result",
          "data": {
            "text/plain": [
              "(<cell at 0x7fc39cfa31c0: int object at 0x7fc3ae0700d0>,\n",
              " <cell at 0x7fc39cfa1360: function object at 0x7fc39cf63f40>)"
            ]
          },
          "metadata": {},
          "execution_count": 207
        }
      ]
    },
    {
      "cell_type": "code",
      "source": [
        "a.__code__.co_freevars"
      ],
      "metadata": {
        "colab": {
          "base_uri": "https://localhost:8080/"
        },
        "id": "-1a9xhQ54h9E",
        "outputId": "1c9aadd0-f6d8-44fa-fa18-f61523caf512"
      },
      "execution_count": 208,
      "outputs": [
        {
          "output_type": "execute_result",
          "data": {
            "text/plain": [
              "('count', 'fn')"
            ]
          },
          "metadata": {},
          "execution_count": 208
        }
      ]
    },
    {
      "cell_type": "code",
      "source": [
        "a(10,20)"
      ],
      "metadata": {
        "colab": {
          "base_uri": "https://localhost:8080/"
        },
        "id": "4JOxrcoB4rdH",
        "outputId": "d4d05d11-8aa0-4dee-db20-e34f161f34b1"
      },
      "execution_count": 209,
      "outputs": [
        {
          "output_type": "stream",
          "name": "stdout",
          "text": [
            "function inner was called 1 times\n",
            "function add was called 1 times\n"
          ]
        },
        {
          "output_type": "execute_result",
          "data": {
            "text/plain": [
              "30"
            ]
          },
          "metadata": {},
          "execution_count": 209
        }
      ]
    },
    {
      "cell_type": "code",
      "source": [
        "add.__name__"
      ],
      "metadata": {
        "colab": {
          "base_uri": "https://localhost:8080/",
          "height": 36
        },
        "id": "ZYHOY0Gm4wf1",
        "outputId": "0f221092-c11b-4c61-db23-1882653fef73"
      },
      "execution_count": 210,
      "outputs": [
        {
          "output_type": "execute_result",
          "data": {
            "text/plain": [
              "'inner'"
            ],
            "application/vnd.google.colaboratory.intrinsic+json": {
              "type": "string"
            }
          },
          "metadata": {},
          "execution_count": 210
        }
      ]
    },
    {
      "cell_type": "code",
      "source": [
        "from functools import wraps\n",
        "\n",
        "def counter(fn):\n",
        "  count = 0\n",
        "  @wraps(fn)\n",
        "  def inner(*args,**kwargs):\n",
        "    nonlocal count\n",
        "    count+=1\n",
        "    print('function {0} was calles {1} times'.format(fn.__name__,count))\n",
        "    # return fn(*args,**kwargs)\n",
        "  return inner"
      ],
      "metadata": {
        "id": "RN70lx_XFV4S"
      },
      "execution_count": 211,
      "outputs": []
    },
    {
      "cell_type": "code",
      "source": [
        "@counter\n",
        "def add(a: int, b: int=10) -> int:\n",
        "    \"\"\"\n",
        "    returns sum of two integers\n",
        "    \"\"\"\n",
        "    return a + b"
      ],
      "metadata": {
        "id": "Uoq3P241G30a"
      },
      "execution_count": 212,
      "outputs": []
    },
    {
      "cell_type": "code",
      "source": [
        "help(add)"
      ],
      "metadata": {
        "id": "EJ6Q7iF9G7__",
        "outputId": "6d8bfe7a-d4bc-4381-ec86-afa03a6f8db3",
        "colab": {
          "base_uri": "https://localhost:8080/"
        }
      },
      "execution_count": 213,
      "outputs": [
        {
          "output_type": "stream",
          "name": "stdout",
          "text": [
            "Help on function add in module __main__:\n",
            "\n",
            "add(a: int, b: int = 10) -> int\n",
            "    returns sum of two integers\n",
            "\n"
          ]
        }
      ]
    },
    {
      "cell_type": "code",
      "source": [
        "def timed(fn):\n",
        "    from time import perf_counter\n",
        "    from functools import wraps\n",
        "\n",
        "    @wraps(fn)\n",
        "    def inner(*args, **kwargs):\n",
        "        start = perf_counter()\n",
        "        result = fn(*args, **kwargs)\n",
        "        end = perf_counter()\n",
        "        elapsed = end - start\n",
        "\n",
        "        args_ = [str(a) for a in args]\n",
        "        kwargs_ = ['{0}={1}'.format(k, v) for (k, v) in kwargs.items()]\n",
        "        all_args = args_ + kwargs_\n",
        "        args_str = ','.join(all_args)\n",
        "        print('{0}({1}) took {2:.6f}s to run.'.format(fn.__name__, args_str, elapsed))\n",
        "        return result\n",
        "\n",
        "    return inner"
      ],
      "metadata": {
        "id": "2DuixqGoG-mM"
      },
      "execution_count": 214,
      "outputs": []
    },
    {
      "cell_type": "code",
      "source": [
        "@timed #decorator\n",
        "def fib_loop(n):\n",
        "    fib_1 = 1\n",
        "    fib_2 = 1\n",
        "    for i in range(3, n+1):\n",
        "        fib_1, fib_2 = fib_2, fib_1 + fib_2\n",
        "    return fib_2"
      ],
      "metadata": {
        "id": "9gow45rpwghw"
      },
      "execution_count": 215,
      "outputs": []
    },
    {
      "cell_type": "code",
      "source": [
        "fib_loop(45)"
      ],
      "metadata": {
        "colab": {
          "base_uri": "https://localhost:8080/"
        },
        "id": "KocwrZv-wlX7",
        "outputId": "a5578e28-3b37-4dca-caff-40a671a3810e"
      },
      "execution_count": 216,
      "outputs": [
        {
          "output_type": "stream",
          "name": "stdout",
          "text": [
            "fib_loop(45) took 0.000005s to run.\n"
          ]
        },
        {
          "output_type": "execute_result",
          "data": {
            "text/plain": [
              "1134903170"
            ]
          },
          "metadata": {},
          "execution_count": 216
        }
      ]
    },
    {
      "cell_type": "code",
      "source": [
        "fib_loop.__name__"
      ],
      "metadata": {
        "colab": {
          "base_uri": "https://localhost:8080/",
          "height": 36
        },
        "id": "NXLOtqay3F1T",
        "outputId": "e789e892-b669-4d74-9671-e4bd3ec8154a"
      },
      "execution_count": 217,
      "outputs": [
        {
          "output_type": "execute_result",
          "data": {
            "text/plain": [
              "'fib_loop'"
            ],
            "application/vnd.google.colaboratory.intrinsic+json": {
              "type": "string"
            }
          },
          "metadata": {},
          "execution_count": 217
        }
      ]
    },
    {
      "cell_type": "code",
      "source": [
        "from collections import namedtuple\n",
        "point2D = namedtuple('point2D',['x','y'])#this can be a list or a tuple or a string   #syntax"
      ],
      "metadata": {
        "id": "Arf7Ju5UbZfS"
      },
      "execution_count": 218,
      "outputs": []
    },
    {
      "cell_type": "code",
      "source": [
        "p2 = point2D(10,20)"
      ],
      "metadata": {
        "id": "TmU49ywIaWOS"
      },
      "execution_count": 219,
      "outputs": []
    },
    {
      "cell_type": "code",
      "source": [
        "p2 #representation"
      ],
      "metadata": {
        "colab": {
          "base_uri": "https://localhost:8080/"
        },
        "id": "FPM_VOLya0xt",
        "outputId": "e77030c5-1dc4-416b-de00-185d655086f9"
      },
      "execution_count": 220,
      "outputs": [
        {
          "output_type": "execute_result",
          "data": {
            "text/plain": [
              "point2D(x=10, y=20)"
            ]
          },
          "metadata": {},
          "execution_count": 220
        }
      ]
    },
    {
      "cell_type": "code",
      "source": [
        "isinstance(p2,tuple) # as said in the definition, instance of namedtuple is a tuple"
      ],
      "metadata": {
        "colab": {
          "base_uri": "https://localhost:8080/"
        },
        "id": "ZWD8fUQudZZY",
        "outputId": "074bc0f0-88eb-4229-be02-6225ec289f22"
      },
      "execution_count": 221,
      "outputs": [
        {
          "output_type": "execute_result",
          "data": {
            "text/plain": [
              "True"
            ]
          },
          "metadata": {},
          "execution_count": 221
        }
      ]
    },
    {
      "cell_type": "code",
      "source": [
        "pt21 = point2D(20,30)\n",
        "pt22 = point2D(20,30)"
      ],
      "metadata": {
        "id": "cx5c9GGad72M"
      },
      "execution_count": 222,
      "outputs": []
    },
    {
      "cell_type": "code",
      "source": [
        "pt21 is pt22"
      ],
      "metadata": {
        "colab": {
          "base_uri": "https://localhost:8080/"
        },
        "id": "x3qsfZJSe2wg",
        "outputId": "cf9e4bca-55e8-45ab-ae66-9b1446477fa7"
      },
      "execution_count": 223,
      "outputs": [
        {
          "output_type": "execute_result",
          "data": {
            "text/plain": [
              "False"
            ]
          },
          "metadata": {},
          "execution_count": 223
        }
      ]
    }
  ]
}