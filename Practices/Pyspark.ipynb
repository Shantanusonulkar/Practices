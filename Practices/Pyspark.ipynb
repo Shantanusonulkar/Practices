{
  "nbformat": 4,
  "nbformat_minor": 0,
  "metadata": {
    "colab": {
      "provenance": []
    },
    "kernelspec": {
      "name": "python3",
      "display_name": "Python 3"
    },
    "language_info": {
      "name": "python"
    }
  },
  "cells": [
    {
      "cell_type": "code",
      "execution_count": null,
      "metadata": {
        "colab": {
          "base_uri": "https://localhost:8080/"
        },
        "id": "SBJk4NZJO8cT",
        "outputId": "c0660918-2d85-4959-a958-3a6c023306c5"
      },
      "outputs": [
        {
          "output_type": "stream",
          "name": "stdout",
          "text": [
            "Looking in indexes: https://pypi.org/simple, https://us-python.pkg.dev/colab-wheels/public/simple/\n",
            "Collecting pyspark\n",
            "  Downloading pyspark-3.4.0.tar.gz (310.8 MB)\n",
            "\u001b[2K     \u001b[90m━━━━━━━━━━━━━━━━━━━━━━━━━━━━━━━━━━━━━━━\u001b[0m \u001b[32m310.8/310.8 MB\u001b[0m \u001b[31m4.1 MB/s\u001b[0m eta \u001b[36m0:00:00\u001b[0m\n",
            "\u001b[?25h  Preparing metadata (setup.py) ... \u001b[?25l\u001b[?25hdone\n",
            "Requirement already satisfied: py4j==0.10.9.7 in /usr/local/lib/python3.10/dist-packages (from pyspark) (0.10.9.7)\n",
            "Building wheels for collected packages: pyspark\n",
            "  Building wheel for pyspark (setup.py) ... \u001b[?25l\u001b[?25hdone\n",
            "  Created wheel for pyspark: filename=pyspark-3.4.0-py2.py3-none-any.whl size=311317145 sha256=2d191e58ae228283c68946447002492b358339ba8862c515d41c96627533eb6c\n",
            "  Stored in directory: /root/.cache/pip/wheels/7b/1b/4b/3363a1d04368e7ff0d408e57ff57966fcdf00583774e761327\n",
            "Successfully built pyspark\n",
            "Installing collected packages: pyspark\n",
            "Successfully installed pyspark-3.4.0\n"
          ]
        }
      ],
      "source": [
        "pip install pyspark\n"
      ]
    },
    {
      "cell_type": "code",
      "source": [
        "from pyspark import SparkContext\n",
        "sc = SparkContext(\"local\", \"count app\")\n",
        "words = sc.parallelize (\n",
        "   [\"scala\", \n",
        "   \"java\", \n",
        "   \"hadoop\", \n",
        "   \"spark\", \n",
        "   \"akka\",\n",
        "   \"spark vs hadoop\", \n",
        "   \"pyspark\",\n",
        "   \"pyspark and spark\"]\n",
        ")\n",
        "counts = words.count()\n",
        "print (\"Number of elements in RDD -> %i\" % (counts))"
      ],
      "metadata": {
        "colab": {
          "base_uri": "https://localhost:8080/"
        },
        "id": "2_zrDWBXPVPX",
        "outputId": "46ec94c3-9219-4ed2-b35a-4b3bf394597e"
      },
      "execution_count": null,
      "outputs": [
        {
          "output_type": "stream",
          "name": "stdout",
          "text": [
            "Number of elements in RDD -> 8\n"
          ]
        }
      ]
    },
    {
      "cell_type": "code",
      "source": [
        "from pyspark import SparkContext\n",
        "sc = SparkContext(\"local\", \"count app\")\n",
        "words = sc.parallelize (\n",
        "   [\"scala\", \n",
        "   \"java\", \n",
        "   \"hadoop\", \n",
        "   \"spark\", \n",
        "   \"akka\",\n",
        "   \"spark vs hadoop\", \n",
        "   \"pyspark\",\n",
        "   \"pyspark and spark\"]\n",
        ")\n",
        "counts = words.count()\n",
        "print( \"Number of elements in RDD -> %i\" % (counts))"
      ],
      "metadata": {
        "colab": {
          "base_uri": "https://localhost:8080/",
          "height": 276
        },
        "id": "z_gZ-G2kPVXM",
        "outputId": "7b274c79-bc1d-4a6a-98ed-2bb83d3659aa"
      },
      "execution_count": null,
      "outputs": [
        {
          "output_type": "error",
          "ename": "ValueError",
          "evalue": "ignored",
          "traceback": [
            "\u001b[0;31m---------------------------------------------------------------------------\u001b[0m",
            "\u001b[0;31mValueError\u001b[0m                                Traceback (most recent call last)",
            "\u001b[0;32m<ipython-input-5-5c90e6bc8efb>\u001b[0m in \u001b[0;36m<cell line: 2>\u001b[0;34m()\u001b[0m\n\u001b[1;32m      1\u001b[0m \u001b[0;32mfrom\u001b[0m \u001b[0mpyspark\u001b[0m \u001b[0;32mimport\u001b[0m \u001b[0mSparkContext\u001b[0m\u001b[0;34m\u001b[0m\u001b[0;34m\u001b[0m\u001b[0m\n\u001b[0;32m----> 2\u001b[0;31m \u001b[0msc\u001b[0m \u001b[0;34m=\u001b[0m \u001b[0mSparkContext\u001b[0m\u001b[0;34m(\u001b[0m\u001b[0;34m\"local\"\u001b[0m\u001b[0;34m,\u001b[0m \u001b[0;34m\"count app\"\u001b[0m\u001b[0;34m)\u001b[0m\u001b[0;34m\u001b[0m\u001b[0;34m\u001b[0m\u001b[0m\n\u001b[0m\u001b[1;32m      3\u001b[0m words = sc.parallelize (\n\u001b[1;32m      4\u001b[0m    [\"scala\", \n\u001b[1;32m      5\u001b[0m    \u001b[0;34m\"java\"\u001b[0m\u001b[0;34m,\u001b[0m\u001b[0;34m\u001b[0m\u001b[0;34m\u001b[0m\u001b[0m\n",
            "\u001b[0;32m/usr/local/lib/python3.10/dist-packages/pyspark/context.py\u001b[0m in \u001b[0;36m__init__\u001b[0;34m(self, master, appName, sparkHome, pyFiles, environment, batchSize, serializer, conf, gateway, jsc, profiler_cls, udf_profiler_cls, memory_profiler_cls)\u001b[0m\n\u001b[1;32m    196\u001b[0m             )\n\u001b[1;32m    197\u001b[0m \u001b[0;34m\u001b[0m\u001b[0m\n\u001b[0;32m--> 198\u001b[0;31m         \u001b[0mSparkContext\u001b[0m\u001b[0;34m.\u001b[0m\u001b[0m_ensure_initialized\u001b[0m\u001b[0;34m(\u001b[0m\u001b[0mself\u001b[0m\u001b[0;34m,\u001b[0m \u001b[0mgateway\u001b[0m\u001b[0;34m=\u001b[0m\u001b[0mgateway\u001b[0m\u001b[0;34m,\u001b[0m \u001b[0mconf\u001b[0m\u001b[0;34m=\u001b[0m\u001b[0mconf\u001b[0m\u001b[0;34m)\u001b[0m\u001b[0;34m\u001b[0m\u001b[0;34m\u001b[0m\u001b[0m\n\u001b[0m\u001b[1;32m    199\u001b[0m         \u001b[0;32mtry\u001b[0m\u001b[0;34m:\u001b[0m\u001b[0;34m\u001b[0m\u001b[0;34m\u001b[0m\u001b[0m\n\u001b[1;32m    200\u001b[0m             self._do_init(\n",
            "\u001b[0;32m/usr/local/lib/python3.10/dist-packages/pyspark/context.py\u001b[0m in \u001b[0;36m_ensure_initialized\u001b[0;34m(cls, instance, gateway, conf)\u001b[0m\n\u001b[1;32m    443\u001b[0m \u001b[0;34m\u001b[0m\u001b[0m\n\u001b[1;32m    444\u001b[0m                     \u001b[0;31m# Raise error if there is already a running Spark context\u001b[0m\u001b[0;34m\u001b[0m\u001b[0;34m\u001b[0m\u001b[0m\n\u001b[0;32m--> 445\u001b[0;31m                     raise ValueError(\n\u001b[0m\u001b[1;32m    446\u001b[0m                         \u001b[0;34m\"Cannot run multiple SparkContexts at once; \"\u001b[0m\u001b[0;34m\u001b[0m\u001b[0;34m\u001b[0m\u001b[0m\n\u001b[1;32m    447\u001b[0m                         \u001b[0;34m\"existing SparkContext(app=%s, master=%s)\"\u001b[0m\u001b[0;34m\u001b[0m\u001b[0;34m\u001b[0m\u001b[0m\n",
            "\u001b[0;31mValueError\u001b[0m: Cannot run multiple SparkContexts at once; existing SparkContext(app=count app, master=local) created by __init__ at <ipython-input-3-f78503fdc73a>:2 "
          ]
        }
      ]
    },
    {
      "cell_type": "code",
      "source": [
        "from pyspark import SparkContext\n",
        "# sc = SparkContext(\"local\", \"count app\")\n",
        "words = sc.parallelize (\n",
        "   [\"scala\", \n",
        "   \"java\", \n",
        "   \"hadoop\", \n",
        "   \"spark\", \n",
        "   \"akka\",\n",
        "   \"spark vs hadoop\", \n",
        "   \"pyspark\",\n",
        "   \"pyspark and spark\"]\n",
        ")\n",
        "counts = words.count()\n",
        "print (\"Number of elements in RDD -> %i\" % (counts))"
      ],
      "metadata": {
        "colab": {
          "base_uri": "https://localhost:8080/"
        },
        "id": "YSty3TsqPVaS",
        "outputId": "9fa3ac38-30f1-4845-8d19-57a376c50c0f"
      },
      "execution_count": null,
      "outputs": [
        {
          "output_type": "stream",
          "name": "stdout",
          "text": [
            "Number of elements in RDD -> 8\n"
          ]
        }
      ]
    },
    {
      "cell_type": "code",
      "source": [
        "#Operations In RDD \n",
        "#1.Transformation(create new RDD):-Map,FlatMap,filter,distinct\n",
        "#2.Actions(operation on RDD)-collect,reduce etc"
      ],
      "metadata": {
        "id": "8XaFuNJdPVck"
      },
      "execution_count": null,
      "outputs": []
    },
    {
      "cell_type": "code",
      "source": [
        "# collect()- gives back RDD\n",
        "words = sc.parallelize (\n",
        "   [\"scala\", \n",
        "   \"java\", \n",
        "   \"hadoop\", \n",
        "   \"spark\", \n",
        "   \"akka\",\n",
        "   \"spark vs hadoop\", \n",
        "   \"pyspark\",\n",
        "   \"pyspark and spark\"]\n",
        ")\n",
        "coll = words.collect()\n",
        "print (\"Elements in RDD -> %s\" % (coll))"
      ],
      "metadata": {
        "colab": {
          "base_uri": "https://localhost:8080/"
        },
        "id": "N00zS2HEPVhr",
        "outputId": "4492343e-2b60-4c26-a5cb-23afe7c0cd3c"
      },
      "execution_count": null,
      "outputs": [
        {
          "output_type": "stream",
          "name": "stdout",
          "text": [
            "Elements in RDD -> ['scala', 'java', 'hadoop', 'spark', 'akka', 'spark vs hadoop', 'pyspark', 'pyspark and spark']\n"
          ]
        }
      ]
    },
    {
      "cell_type": "code",
      "source": [
        "\n",
        "words = sc.parallelize (\n",
        "   [\"scala\", \n",
        "   \"java\", \n",
        "   \"hadoop\", \n",
        "   \"spark\", \n",
        "   \"akka\",\n",
        "   \"spark vs hadoop\", \n",
        "   \"pyspark\",\n",
        "   \"pyspark and spark\"]\n",
        ")\n",
        "def f(x): print(x)\n",
        "fore = words.foreach(f) "
      ],
      "metadata": {
        "id": "DkrhbCziPVkG"
      },
      "execution_count": null,
      "outputs": []
    },
    {
      "cell_type": "code",
      "source": [
        "#Filter\n",
        "words = sc.parallelize (\n",
        "   [\"scala\", \n",
        "   \"java\", \n",
        "   \"hadoop\", \n",
        "   \"spark\", \n",
        "   \"akka\",\n",
        "   \"spark vs hadoop\", \n",
        "   \"pyspark\",\n",
        "   \"pyspark and spark\"]\n",
        ")\n",
        "words_filter = words.filter(lambda x: 'spark' in x)\n",
        "filtered = words_filter.collect()\n",
        "print (\"Fitered RDD -> %s\" % (filtered))"
      ],
      "metadata": {
        "colab": {
          "base_uri": "https://localhost:8080/"
        },
        "id": "K5hhHEXzPVmh",
        "outputId": "8108c38c-05dc-43ce-e686-3282d049cc21"
      },
      "execution_count": null,
      "outputs": [
        {
          "output_type": "stream",
          "name": "stdout",
          "text": [
            "Fitered RDD -> ['spark', 'spark vs hadoop', 'pyspark', 'pyspark and spark']\n"
          ]
        }
      ]
    },
    {
      "cell_type": "code",
      "source": [
        "#MAP\n",
        "words = sc.parallelize (\n",
        "   [\"scala\", \n",
        "   \"java\", \n",
        "   \"hadoop\", \n",
        "   \"spark\", \n",
        "   \"akka\",\n",
        "   \"spark vs hadoop\", \n",
        "   \"pyspark\",\n",
        "   \"pyspark and spark\"]\n",
        ")\n",
        "words_map = words.map(lambda x: (x, 1))\n",
        "mapping = words_map.collect()\n",
        "print (\"Key value pair -> %s\" % (mapping))"
      ],
      "metadata": {
        "colab": {
          "base_uri": "https://localhost:8080/"
        },
        "id": "V-68WhWQPVqc",
        "outputId": "535a1b0e-f04f-4deb-95f0-8511b0a5b10a"
      },
      "execution_count": null,
      "outputs": [
        {
          "output_type": "stream",
          "name": "stdout",
          "text": [
            "Key value pair -> [('scala', 1), ('java', 1), ('hadoop', 1), ('spark', 1), ('akka', 1), ('spark vs hadoop', 1), ('pyspark', 1), ('pyspark and spark', 1)]\n"
          ]
        }
      ]
    },
    {
      "cell_type": "code",
      "source": [
        "from operator import add"
      ],
      "metadata": {
        "id": "XdWoFHq9PVr5"
      },
      "execution_count": null,
      "outputs": []
    },
    {
      "cell_type": "code",
      "source": [
        "#Reduce\n",
        "\n",
        "nums = sc.parallelize([1, 2, 3, 4, 5])\n",
        "adding = nums.reduce(add)\n",
        "print (\"Adding all the elements -> %i\" % (adding))"
      ],
      "metadata": {
        "colab": {
          "base_uri": "https://localhost:8080/"
        },
        "id": "92zBVyCzPVt5",
        "outputId": "841f7fb7-4433-4fe1-d226-49f611214a78"
      },
      "execution_count": null,
      "outputs": [
        {
          "output_type": "stream",
          "name": "stdout",
          "text": [
            "Adding all the elements -> 15\n"
          ]
        }
      ]
    },
    {
      "cell_type": "code",
      "source": [
        "#reduce\n",
        "x = sc.parallelize([(\"spark\", 1), (\"hadoop\", 4)])\n",
        "y = sc.parallelize([(\"spark\", 2), (\"hadoop\", 5)])\n",
        "joined = x.join(y)\n",
        "final = joined.collect()\n",
        "print (\"Join RDD -> %s\" % (final))"
      ],
      "metadata": {
        "colab": {
          "base_uri": "https://localhost:8080/"
        },
        "id": "YaJI-Z5ePVwx",
        "outputId": "93528abb-1671-4e67-9624-186b91c7a601"
      },
      "execution_count": null,
      "outputs": [
        {
          "output_type": "stream",
          "name": "stdout",
          "text": [
            "Join RDD -> [('hadoop', (4, 5)), ('spark', (1, 2))]\n"
          ]
        }
      ]
    },
    {
      "cell_type": "code",
      "source": [
        "#cache\n",
        "words = sc.parallelize (\n",
        "   [\"scala\", \n",
        "   \"java\", \n",
        "   \"hadoop\", \n",
        "   \"spark\", \n",
        "   \"akka\",\n",
        "   \"spark vs hadoop\", \n",
        "   \"pyspark\",\n",
        "   \"pyspark and spark\"]\n",
        ") \n",
        "words.cache() \n",
        "caching = words.persist().is_cached \n",
        "print (\"Words got chached > %s\" % (caching))"
      ],
      "metadata": {
        "colab": {
          "base_uri": "https://localhost:8080/"
        },
        "id": "B5OQhC1UPVzo",
        "outputId": "69eb28fc-9300-44cc-b02f-8e26c022b44d"
      },
      "execution_count": null,
      "outputs": [
        {
          "output_type": "stream",
          "name": "stdout",
          "text": [
            "Words got chached > True\n"
          ]
        }
      ]
    },
    {
      "cell_type": "code",
      "source": [
        "#For parallel processing, Apache Spark uses shared variables. \n",
        "# copy of shared variable goes on each node of the cluster "
      ],
      "metadata": {
        "id": "8dCQnFu3PV1d"
      },
      "execution_count": null,
      "outputs": []
    },
    {
      "cell_type": "code",
      "source": [
        "#There are two types of shared variables supported by Apache Spark −\n",
        "\n",
        "#Broadcast\n",
        "#Accumulator"
      ],
      "metadata": {
        "id": "dS83gdoLlyjH"
      },
      "execution_count": null,
      "outputs": []
    },
    {
      "cell_type": "code",
      "source": [
        "# Broadcast\n",
        "#Broadcast variables are used to save the copy of data across all nodes. \n",
        "#This variable is cached on all the machines and not sent on machines with tasks"
      ],
      "metadata": {
        "id": "ti5DwIaglyl4"
      },
      "execution_count": null,
      "outputs": []
    },
    {
      "cell_type": "code",
      "source": [
        "words_new = sc.broadcast([\"scala\", \"java\", \"hadoop\", \"spark\", \"akka\"]) \n",
        "data = words_new.value \n",
        "print (\"Stored data -> %s\" % (data))\n",
        "elem = words_new.value[2] \n",
        "print (\"Printing a particular element in RDD -> %s\" % (elem))"
      ],
      "metadata": {
        "colab": {
          "base_uri": "https://localhost:8080/"
        },
        "id": "8AMp5ZP0lyoq",
        "outputId": "7be69285-6dd4-4f6d-d564-53ddeb2faac5"
      },
      "execution_count": null,
      "outputs": [
        {
          "output_type": "stream",
          "name": "stdout",
          "text": [
            "Stored data -> ['scala', 'java', 'hadoop', 'spark', 'akka']\n",
            "Printing a particular element in RDD -> hadoop\n"
          ]
        }
      ]
    },
    {
      "cell_type": "code",
      "source": [
        "#Accumulator\n",
        "#Accumulator variables are used for aggregating the information through associative and commutative operations. \n",
        "# For example, you can use an accumulator for a sum operation or counters (in MapReduce).(it gather all the element and do the operations)"
      ],
      "metadata": {
        "id": "EI8iOeIRlyq2"
      },
      "execution_count": null,
      "outputs": []
    },
    {
      "cell_type": "code",
      "source": [
        "num = sc.accumulator(10) \n",
        "def f(x): \n",
        "   global num \n",
        "   num+=x \n",
        "rdd = sc.parallelize([20,30,40,50]) \n",
        "rdd.foreach(f) \n",
        "final = num.value \n",
        "print (\"Accumulated value is -> %i\" % (final))"
      ],
      "metadata": {
        "colab": {
          "base_uri": "https://localhost:8080/"
        },
        "id": "bFXX86EdlytS",
        "outputId": "afdb94a9-0454-4c94-ee45-6c1c7e30f6ae"
      },
      "execution_count": null,
      "outputs": [
        {
          "output_type": "stream",
          "name": "stdout",
          "text": [
            "Accumulated value is -> 150\n"
          ]
        }
      ]
    },
    {
      "cell_type": "code",
      "source": [
        "# SparkConf helps to provides configurations to run a Spark application in local machine/Cluster ."
      ],
      "metadata": {
        "id": "-jbK7Xuflyvr"
      },
      "execution_count": null,
      "outputs": []
    },
    {
      "cell_type": "code",
      "source": [
        "# set(key, value) − To set a configuration property.\n",
        "\n",
        "# setMaster(value) − To set the master URL.\n",
        "\n",
        "# setAppName(value) − To set an application name.\n",
        "\n",
        "# get(key, defaultValue=None) − To get a configuration value of a key.\n",
        "\n",
        "# setSparkHome(value) − To set Spark installation path on worker nodes."
      ],
      "metadata": {
        "id": "AD42Kg2-lyyv"
      },
      "execution_count": null,
      "outputs": []
    },
    {
      "cell_type": "code",
      "source": [],
      "metadata": {
        "id": "7cw5Rjm8ly0P"
      },
      "execution_count": null,
      "outputs": []
    }
  ]
}